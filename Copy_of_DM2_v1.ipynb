{
  "cells": [
    {
      "cell_type": "markdown",
      "metadata": {
        "id": "view-in-github",
        "colab_type": "text"
      },
      "source": [
        "<a href=\"https://colab.research.google.com/github/codeworkshopou/Data-Management-and-Statistics-in-Python/blob/main/Copy_of_DM2_v1.ipynb\" target=\"_parent\"><img src=\"https://colab.research.google.com/assets/colab-badge.svg\" alt=\"Open In Colab\"/></a>"
      ]
    },
    {
      "cell_type": "markdown",
      "metadata": {
        "id": "qEGdccCId4vG"
      },
      "source": [
        "# Data management: Day 2\n",
        "\n",
        "Throughout this tutorial, we will approach the suitable conditions for bigfoot to thrive. The main objective is to keep practicing `pandas` methods we have already learned from the previous session, as well as complement them with new techniques\n",
        "\n",
        "# Module import and data reading"
      ]
    },
    {
      "cell_type": "code",
      "execution_count": null,
      "metadata": {
        "id": "tUllDRhWd4vK"
      },
      "outputs": [],
      "source": [
        "import pandas as pd"
      ]
    },
    {
      "cell_type": "markdown",
      "metadata": {
        "id": "f4lJp5OAd4vL"
      },
      "source": [
        "The dataset was compiled by the [Bigfoot Field Researchers Organization](http://www.bfro.net) (BFRO), and managed in [data.world](https://data.world/). We will only use a subset of the complete dataset:"
      ]
    },
    {
      "cell_type": "code",
      "execution_count": null,
      "metadata": {
        "id": "dnOw74nod4vM",
        "outputId": "8a6a1ace-4e5a-41ba-ed9f-170c5662047c"
      },
      "outputs": [
        {
          "data": {
            "text/html": [
              "<div>\n",
              "<style scoped>\n",
              "    .dataframe tbody tr th:only-of-type {\n",
              "        vertical-align: middle;\n",
              "    }\n",
              "\n",
              "    .dataframe tbody tr th {\n",
              "        vertical-align: top;\n",
              "    }\n",
              "\n",
              "    .dataframe thead th {\n",
              "        text-align: right;\n",
              "    }\n",
              "</style>\n",
              "<table border=\"1\" class=\"dataframe\">\n",
              "  <thead>\n",
              "    <tr style=\"text-align: right;\">\n",
              "      <th></th>\n",
              "      <th>state</th>\n",
              "      <th>timestamp</th>\n",
              "      <th>latitude</th>\n",
              "      <th>longitude</th>\n",
              "      <th>temperature_high</th>\n",
              "      <th>temperature_mid</th>\n",
              "      <th>temperature_low</th>\n",
              "      <th>dew_point</th>\n",
              "      <th>humidity</th>\n",
              "      <th>cloud_cover</th>\n",
              "      <th>moon_phase</th>\n",
              "      <th>precip_intensity</th>\n",
              "      <th>precip_probability</th>\n",
              "      <th>pressure</th>\n",
              "      <th>uv_index</th>\n",
              "      <th>visibility</th>\n",
              "      <th>wind_bearing</th>\n",
              "      <th>wind_speed</th>\n",
              "    </tr>\n",
              "  </thead>\n",
              "  <tbody>\n",
              "    <tr>\n",
              "      <th>0</th>\n",
              "      <td>Alabama</td>\n",
              "      <td>1981-09-15T12:00:00Z</td>\n",
              "      <td>32.31435</td>\n",
              "      <td>-85.16235</td>\n",
              "      <td>87.57</td>\n",
              "      <td>78.455</td>\n",
              "      <td>69.34</td>\n",
              "      <td>69.27</td>\n",
              "      <td>0.89</td>\n",
              "      <td>0.71</td>\n",
              "      <td>0.55</td>\n",
              "      <td>0.0364</td>\n",
              "      <td>1.0</td>\n",
              "      <td>1013.77</td>\n",
              "      <td>7.0</td>\n",
              "      <td>5.56</td>\n",
              "      <td>230.0</td>\n",
              "      <td>1.89</td>\n",
              "    </tr>\n",
              "    <tr>\n",
              "      <th>1</th>\n",
              "      <td>Alabama</td>\n",
              "      <td>1999-07-15T12:00:00Z</td>\n",
              "      <td>33.28375</td>\n",
              "      <td>-87.32655</td>\n",
              "      <td>86.54</td>\n",
              "      <td>78.440</td>\n",
              "      <td>70.34</td>\n",
              "      <td>70.47</td>\n",
              "      <td>0.80</td>\n",
              "      <td>0.38</td>\n",
              "      <td>0.10</td>\n",
              "      <td>NaN</td>\n",
              "      <td>NaN</td>\n",
              "      <td>1020.03</td>\n",
              "      <td>10.0</td>\n",
              "      <td>7.54</td>\n",
              "      <td>85.0</td>\n",
              "      <td>1.90</td>\n",
              "    </tr>\n",
              "  </tbody>\n",
              "</table>\n",
              "</div>"
            ],
            "text/plain": [
              "     state             timestamp  latitude  longitude  temperature_high  \\\n",
              "0  Alabama  1981-09-15T12:00:00Z  32.31435  -85.16235             87.57   \n",
              "1  Alabama  1999-07-15T12:00:00Z  33.28375  -87.32655             86.54   \n",
              "\n",
              "   temperature_mid  temperature_low  dew_point  humidity  cloud_cover  \\\n",
              "0           78.455            69.34      69.27      0.89         0.71   \n",
              "1           78.440            70.34      70.47      0.80         0.38   \n",
              "\n",
              "   moon_phase  precip_intensity  precip_probability  pressure  uv_index  \\\n",
              "0        0.55            0.0364                 1.0   1013.77       7.0   \n",
              "1        0.10               NaN                 NaN   1020.03      10.0   \n",
              "\n",
              "   visibility  wind_bearing  wind_speed  \n",
              "0        5.56         230.0        1.89  \n",
              "1        7.54          85.0        1.90  "
            ]
          },
          "execution_count": 31,
          "metadata": {},
          "output_type": "execute_result"
        }
      ],
      "source": [
        "url_foot = \"https://raw.githubusercontent.com/ulises-rosas/code/main/bigfoot.csv\"\n",
        "bigfoot = pd.read_csv(url_foot)\n",
        "bigfoot.head(2)"
      ]
    },
    {
      "cell_type": "markdown",
      "metadata": {
        "id": "wkA7sLBAd4vN"
      },
      "source": [
        "# Data exploration\n",
        "\n",
        "Upon looking at the number of occurrences of bigfoot per state, we can declare that Washington is the state where bigfoot was seen the most:"
      ]
    },
    {
      "cell_type": "code",
      "execution_count": null,
      "metadata": {
        "id": "fT-rAX6Vd4vN",
        "outputId": "7418ea80-f113-42cb-fdc8-e8c231920c76"
      },
      "outputs": [
        {
          "data": {
            "text/plain": [
              "state\n",
              "Washington    538\n",
              "Ohio          283\n",
              "dtype: int64"
            ]
          },
          "execution_count": 51,
          "metadata": {},
          "output_type": "execute_result"
        }
      ],
      "source": [
        "(bigfoot\n",
        "    .groupby('state') # group by 'state' values\n",
        "    .apply(len) # count rows per group\n",
        "    .sort_values(ascending=False) # sort above counting\n",
        "    .head(2) # take the first two rows\n",
        "    )"
      ]
    },
    {
      "cell_type": "markdown",
      "metadata": {
        "id": "gxhwKV61d4vO"
      },
      "source": [
        "Since we applied multiple methods on top of each other, we collapsed lines to improve readability by surrounding lines with parenthesis.\n",
        "\n",
        "## Question\n",
        "\n",
        "> What is the year when bigfoot was seen the most?\n",
        "\n",
        "*Hint*: i) you might need to create a new column from `'timestamp'` that isolates the year information, ii) to isolate the year, you can use the `apply` method that uses a function (i.e., you have to define it) that split strings and returns the first item. "
      ]
    },
    {
      "cell_type": "code",
      "execution_count": null,
      "metadata": {
        "id": "FjK8RVHkd4vO"
      },
      "outputs": [],
      "source": [
        "# your answer"
      ]
    },
    {
      "cell_type": "markdown",
      "metadata": {
        "id": "5S0scP0Dd4vP"
      },
      "source": [
        "# Correlation\n",
        "\n",
        "We can obtain the linear correlation between the number of occurrences and the values of a given variable. To do so, we can just group rows by a given variable, and correlate the variable with its frequency. For example, if we want to create a table of latitude vs. frequency, we can run the following line:"
      ]
    },
    {
      "cell_type": "code",
      "execution_count": null,
      "metadata": {
        "id": "ORDcwztsd4vP",
        "outputId": "03fde150-a48c-4199-db71-425ace51e016"
      },
      "outputs": [
        {
          "data": {
            "text/plain": [
              "latitude\n",
              "27.97255    1\n",
              "36.16550    1\n",
              "39.42635    1\n",
              "41.75840    1\n",
              "38.83996    1\n",
              "dtype: int64"
            ]
          },
          "execution_count": 34,
          "metadata": {},
          "output_type": "execute_result"
        }
      ],
      "source": [
        "freq_lat = bigfoot.groupby('latitude').apply(len)\n",
        "freq_lat.sample(5)"
      ]
    },
    {
      "cell_type": "markdown",
      "metadata": {
        "id": "LIAAEJXAd4vQ"
      },
      "source": [
        "However, we notice that the measurement accuracy makes bins with low frequencies. Then, we can round the values `latitude` column by using the `.round` method so that we broaden the bin amplitude "
      ]
    },
    {
      "cell_type": "code",
      "execution_count": null,
      "metadata": {
        "id": "vhgKHoPAd4vQ",
        "outputId": "745a33e1-becf-4b7e-899f-78d6982224fe"
      },
      "outputs": [
        {
          "data": {
            "text/plain": [
              "latitude\n",
              "43.1    10\n",
              "45.6    21\n",
              "28.5    11\n",
              "45.5    16\n",
              "36.3    18\n",
              "dtype: int64"
            ]
          },
          "execution_count": 35,
          "metadata": {},
          "output_type": "execute_result"
        }
      ],
      "source": [
        "bigfoot['latitude'] = bigfoot['latitude'].round(decimals = 1)\n",
        "freq_lat = bigfoot.groupby('latitude').apply(len)\n",
        "freq_lat.sample(5)\n"
      ]
    },
    {
      "cell_type": "markdown",
      "metadata": {
        "id": "QocWdBGjd4vR"
      },
      "source": [
        "Now, we can proceed to obtain the correlation between the latitude and bigfoot occurrencies by using the `corr` method"
      ]
    },
    {
      "cell_type": "code",
      "execution_count": null,
      "metadata": {
        "id": "aZt_mqDId4vR",
        "outputId": "fec6961c-b45c-4dc6-a6ab-75f959a14812"
      },
      "outputs": [
        {
          "data": {
            "text/html": [
              "<div>\n",
              "<style scoped>\n",
              "    .dataframe tbody tr th:only-of-type {\n",
              "        vertical-align: middle;\n",
              "    }\n",
              "\n",
              "    .dataframe tbody tr th {\n",
              "        vertical-align: top;\n",
              "    }\n",
              "\n",
              "    .dataframe thead th {\n",
              "        text-align: right;\n",
              "    }\n",
              "</style>\n",
              "<table border=\"1\" class=\"dataframe\">\n",
              "  <thead>\n",
              "    <tr style=\"text-align: right;\">\n",
              "      <th></th>\n",
              "      <th>latitude</th>\n",
              "      <th>0</th>\n",
              "    </tr>\n",
              "  </thead>\n",
              "  <tbody>\n",
              "    <tr>\n",
              "      <th>latitude</th>\n",
              "      <td>1.000000</td>\n",
              "      <td>0.515078</td>\n",
              "    </tr>\n",
              "    <tr>\n",
              "      <th>0</th>\n",
              "      <td>0.515078</td>\n",
              "      <td>1.000000</td>\n",
              "    </tr>\n",
              "  </tbody>\n",
              "</table>\n",
              "</div>"
            ],
            "text/plain": [
              "          latitude         0\n",
              "latitude  1.000000  0.515078\n",
              "0         0.515078  1.000000"
            ]
          },
          "execution_count": 49,
          "metadata": {},
          "output_type": "execute_result"
        }
      ],
      "source": [
        "mycorr = freq_lat.reset_index().corr()\n",
        "mycorr"
      ]
    },
    {
      "cell_type": "markdown",
      "metadata": {
        "id": "h5WA_sEsd4vS"
      },
      "source": [
        "Note that before calling `.corr` we needed to transform the row names (i.e., latitude bins) into a column by using the `.reset_index` method. `0` column is the number of bigfoot occurrences. Finally, to get the correlation we just need to specify its position in the table by using the `.iloc` method:"
      ]
    },
    {
      "cell_type": "code",
      "execution_count": null,
      "metadata": {
        "id": "gJOxklbnd4vS",
        "outputId": "160c928e-226f-4c30-ee13-6180f8de6099"
      },
      "outputs": [
        {
          "data": {
            "text/plain": [
              "0.5150776825659353"
            ]
          },
          "execution_count": 48,
          "metadata": {},
          "output_type": "execute_result"
        }
      ],
      "source": [
        "mycorr.iloc[0,1]"
      ]
    },
    {
      "cell_type": "markdown",
      "metadata": {
        "id": "OGgfsA8Bd4vS"
      },
      "source": [
        "## Challenge\n",
        "\n",
        "From the below list of variables, find the top three variables that highly correlate with bigfoot occurrence \n",
        "\n",
        "*Remark*: While the correlation can be positive or negative, the magnitude of the correlation is what we are looking for. A `for-loop` that automatizes the procedure to get the correlation by using the following structure might be a good starting point:\n",
        ">```python\n",
        ">out = []\n",
        ">for c in cols:\n",
        ">    # your solution\n",
        ">    out.append([ c, corr ])\n",
        ">```\n",
        "\n",
        "It is convenient to store results in a list because it can be easily converted into a data frame with `pd.DataFrame(out, columns=['var', 'corr'])`, and then we can apply methods that we have already worked with"
      ]
    },
    {
      "cell_type": "code",
      "execution_count": null,
      "metadata": {
        "id": "4hNi9g9Ad4vT"
      },
      "outputs": [],
      "source": [
        "num_cols = [\n",
        " 'latitude', \n",
        " 'longitude', \n",
        " 'temperature_high',\n",
        " 'temperature_mid',\n",
        " 'temperature_low',\n",
        " 'dew_point',\n",
        " 'humidity',\n",
        " 'cloud_cover',\n",
        " 'moon_phase',\n",
        " 'precip_intensity',\n",
        " 'precip_probability',\n",
        " 'pressure',\n",
        " 'uv_index',\n",
        " 'visibility',\n",
        " 'wind_bearing',\n",
        " 'wind_speed'\n",
        " ]\n",
        "# you solution here\n"
      ]
    },
    {
      "cell_type": "markdown",
      "metadata": {
        "id": "OJrrFw4Wd4vT"
      },
      "source": [
        "# More on sorting\n",
        "\n",
        "Up to this point, examples showed how to sort rows in a function of one single column. However, the `sort_values` method can hierarchically handle multiple columns (i.e., respecting the proposed column order). For example, we give as input a list of two columns (i.e., `'uv_index'` and `'humidity'`), and specify one to decrease while the other one to increase:"
      ]
    },
    {
      "cell_type": "code",
      "execution_count": null,
      "metadata": {
        "id": "egvYhOwpd4vU",
        "outputId": "06251ed5-4d30-4bbc-e50c-c6e50ab1715f"
      },
      "outputs": [
        {
          "data": {
            "text/html": [
              "<div>\n",
              "<style scoped>\n",
              "    .dataframe tbody tr th:only-of-type {\n",
              "        vertical-align: middle;\n",
              "    }\n",
              "\n",
              "    .dataframe tbody tr th {\n",
              "        vertical-align: top;\n",
              "    }\n",
              "\n",
              "    .dataframe thead th {\n",
              "        text-align: right;\n",
              "    }\n",
              "</style>\n",
              "<table border=\"1\" class=\"dataframe\">\n",
              "  <thead>\n",
              "    <tr style=\"text-align: right;\">\n",
              "      <th></th>\n",
              "      <th>uv_index</th>\n",
              "      <th>humidity</th>\n",
              "    </tr>\n",
              "  </thead>\n",
              "  <tbody>\n",
              "    <tr>\n",
              "      <th>2096</th>\n",
              "      <td>13.0</td>\n",
              "      <td>0.16</td>\n",
              "    </tr>\n",
              "    <tr>\n",
              "      <th>2097</th>\n",
              "      <td>13.0</td>\n",
              "      <td>0.47</td>\n",
              "    </tr>\n",
              "    <tr>\n",
              "      <th>299</th>\n",
              "      <td>13.0</td>\n",
              "      <td>0.74</td>\n",
              "    </tr>\n",
              "    <tr>\n",
              "      <th>140</th>\n",
              "      <td>12.0</td>\n",
              "      <td>0.08</td>\n",
              "    </tr>\n",
              "    <tr>\n",
              "      <th>3075</th>\n",
              "      <td>12.0</td>\n",
              "      <td>0.14</td>\n",
              "    </tr>\n",
              "  </tbody>\n",
              "</table>\n",
              "</div>"
            ],
            "text/plain": [
              "      uv_index  humidity\n",
              "2096      13.0      0.16\n",
              "2097      13.0      0.47\n",
              "299       13.0      0.74\n",
              "140       12.0      0.08\n",
              "3075      12.0      0.14"
            ]
          },
          "execution_count": 59,
          "metadata": {},
          "output_type": "execute_result"
        }
      ],
      "source": [
        "column_list = ['uv_index', 'humidity']\n",
        "\n",
        "(bigfoot[ column_list ]\n",
        "    .sort_values( column_list, ascending = [False, True] )\n",
        "    .head()\n",
        ")"
      ]
    },
    {
      "cell_type": "markdown",
      "metadata": {
        "id": "VAvLu1Kad4vU"
      },
      "source": [
        "Note how values of humidity increase within the uv_index of 13"
      ]
    },
    {
      "cell_type": "markdown",
      "metadata": {
        "id": "ocJiwTMnd4vU"
      },
      "source": [
        "## Challenge\n",
        "\n",
        "Sort the table in the function of the top three variables we found in the previous section, and, from the first 500 sorted rows, find the top two states where bigfoot was more frequently seen. Compare this result with what we obtained before\n",
        "\n",
        "*Remark*: the sign of the linear correlation must be considered in the sorting process"
      ]
    },
    {
      "cell_type": "markdown",
      "metadata": {
        "id": "WRfg6o7md4vV"
      },
      "source": [
        "# Mean, Median, and Standard Deviation\n",
        "\n",
        "Mean, Median, and Standard Deviation can be directly called by using `mean`, `median`, and `std` methods.\n",
        "\n",
        "For example, to know what was the average moon phase per state when bigfoot was seen, we can call the `mean` method after grouping rows:"
      ]
    },
    {
      "cell_type": "code",
      "execution_count": null,
      "metadata": {
        "id": "jZFzzSVQd4vV",
        "outputId": "629ec682-d8ed-4fcf-8c78-20d01f71005c"
      },
      "outputs": [
        {
          "data": {
            "text/plain": [
              "state\n",
              "Alabama       0.43\n",
              "Arizona       0.52\n",
              "Arkansas      0.48\n",
              "California    0.53\n",
              "Colorado      0.44\n",
              "Name: moon_phase, dtype: float64"
            ]
          },
          "execution_count": 65,
          "metadata": {},
          "output_type": "execute_result"
        }
      ],
      "source": [
        "bigfoot.groupby('state')['moon_phase'].mean().head()"
      ]
    },
    {
      "cell_type": "markdown",
      "metadata": {
        "id": "7Y-J7uwQd4vV"
      },
      "source": [
        "Similarly, we can apply the same strategy for `median` and `std`"
      ]
    },
    {
      "cell_type": "markdown",
      "metadata": {
        "id": "PYgep82Pd4vW"
      },
      "source": [
        "## Questions\n",
        "\n",
        "> what are the 'optimal' conditions for bigfoot based on the three variables we previously found?\n",
        "\n",
        "*Hint*: We can use quantile information from the `describe` method to subset the dataset"
      ]
    },
    {
      "cell_type": "code",
      "execution_count": null,
      "metadata": {
        "id": "oshIDnKpd4vW"
      },
      "outputs": [],
      "source": [
        "# you answer here"
      ]
    },
    {
      "cell_type": "markdown",
      "metadata": {
        "id": "lXqTw0tHd4vW"
      },
      "source": [
        "> What is the sparcity of values from these three variables within the 'optimal' condition range?"
      ]
    },
    {
      "cell_type": "code",
      "execution_count": null,
      "metadata": {
        "id": "IWN8p1Rpd4vX"
      },
      "outputs": [],
      "source": [
        "# you answer here"
      ]
    }
  ],
  "metadata": {
    "kernelspec": {
      "display_name": "Python 3",
      "language": "python",
      "name": "python3"
    },
    "language_info": {
      "codemirror_mode": {
        "name": "ipython",
        "version": 3
      },
      "file_extension": ".py",
      "mimetype": "text/x-python",
      "name": "python",
      "nbconvert_exporter": "python",
      "pygments_lexer": "ipython3",
      "version": "3.7.9"
    },
    "vscode": {
      "interpreter": {
        "hash": "499b230a8abd1c927d6caa6913e3c57dd558117cad7b31f141bdcd883b3d054c"
      }
    },
    "colab": {
      "name": "Copy of DM2 v1.ipynb",
      "provenance": [],
      "collapsed_sections": [],
      "include_colab_link": true
    }
  },
  "nbformat": 4,
  "nbformat_minor": 0
}