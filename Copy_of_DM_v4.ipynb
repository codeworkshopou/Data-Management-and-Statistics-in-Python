{
  "cells": [
    {
      "cell_type": "markdown",
      "metadata": {
        "id": "view-in-github",
        "colab_type": "text"
      },
      "source": [
        "<a href=\"https://colab.research.google.com/github/codeworkshopou/Data-Management-and-Statistics-in-Python/blob/main/Copy_of_DM_v4.ipynb\" target=\"_parent\"><img src=\"https://colab.research.google.com/assets/colab-badge.svg\" alt=\"Open In Colab\"/></a>"
      ]
    },
    {
      "cell_type": "markdown",
      "metadata": {
        "id": "zFedJfpTx1i5"
      },
      "source": [
        "# Data management: Day 1\n",
        "\n",
        "Throughout this tutorial, we will use the `pandas` Python module. This is a very useful module for data analyses and management. Since `pandas` is not a built-in Python module, you might need to install it locally if you are not using this Google Colab notebook. For details, please see instructions [here](https://pandas.pydata.org/getting_started.html).\n",
        "\n",
        "We can import the `pandas` module with:"
      ]
    },
    {
      "cell_type": "code",
      "execution_count": null,
      "metadata": {
        "id": "JxRE2rLDRXZa"
      },
      "outputs": [],
      "source": [
        "import pandas as pd"
      ]
    },
    {
      "cell_type": "markdown",
      "metadata": {
        "id": "VMYxEPyjymv-"
      },
      "source": [
        "\n",
        "# Contents \n",
        "\n",
        "[2](#Data-reading): Data reading\n",
        "\n",
        "[3](#Data-exploration): Data exploration\n",
        "\n",
        "[4](#Column-selection): Column selection\n",
        "\n",
        "[5](#Column-modification): Column modification\n",
        "\n",
        "[6](#filtering): Filtering\n",
        "\n",
        "[7](#sorting): Sorting\n",
        "\n",
        "[8](#Merge): Merge\n",
        "\n",
        "[9](#grouping): Grouping\n",
        "    "
      ]
    },
    {
      "cell_type": "markdown",
      "metadata": {
        "id": "E4-2JLNE7nDy"
      },
      "source": [
        "# Data reading\n",
        "\n",
        "If we have a csv-formated file locally stored, `pandas` can read it directly with the `pd.read_csv` function:\n",
        "\n",
        "```python\n",
        "df = pd.read_csv('PATH/TO/FILE')\n",
        "```\n",
        "If the file is rather available online, you can specify the URL inside the function:\n",
        "\n",
        "```python\n",
        "df = pd.read_csv('URL/ROUTE')\n",
        "```\n",
        "\n",
        "The later is our case. We will donwload our study dataset from a URL path:\n"
      ]
    },
    {
      "cell_type": "code",
      "execution_count": null,
      "metadata": {
        "colab": {
          "base_uri": "https://localhost:8080/"
        },
        "id": "LYjeEw07xTNt",
        "outputId": "4058e561-9c82-4948-940c-310d403fd2eb"
      },
      "outputs": [
        {
          "data": {
            "text/plain": [
              "pandas.core.frame.DataFrame"
            ]
          },
          "execution_count": 71,
          "metadata": {},
          "output_type": "execute_result"
        }
      ],
      "source": [
        "url = \"https://raw.githubusercontent.com/ulises-rosas/code/main/CalHou.csv\"\n",
        "housing = pd.read_csv(url)\n",
        "type(housing)"
      ]
    },
    {
      "cell_type": "markdown",
      "metadata": {
        "id": "zhwyoaBx_v2Z"
      },
      "source": [
        "As seen with the function `type`, the read data is a `pandas.core.frame.DataFrame` object, and it contains many methods that will help us to manipulate datasets"
      ]
    },
    {
      "cell_type": "markdown",
      "metadata": {
        "id": "vonW71s1AWZa"
      },
      "source": [
        "For reference, here is the description of the \"California housing\" dataset columns:\n",
        "\n",
        "- MedInc    : median income in block group (hundreds of thousands of dollars)\n",
        "- HouseAge  : median house age in block group\n",
        "- AveRooms  : average number of rooms per household\n",
        "- AveBedrms : average number of bedrooms per household\n",
        "- Population : block group population\n",
        "- AveOccup  : average number of household members\n",
        "- Latitude  : block group latitude\n",
        "- Longitude : block group longitude"
      ]
    },
    {
      "cell_type": "markdown",
      "metadata": {
        "id": "U8RtGx0X4gga"
      },
      "source": [
        "\n",
        "# Data exploration\n",
        "\n",
        "We can summarize column information by using the `.info()` method directly on the table. From below, we can see that the `housing` dataset contains 20640 rows and 9 columns:"
      ]
    },
    {
      "cell_type": "code",
      "execution_count": null,
      "metadata": {
        "colab": {
          "base_uri": "https://localhost:8080/"
        },
        "id": "BnCQRgnk8JNk",
        "outputId": "0f395563-ac01-4b29-ba1c-eeae5471f6f1"
      },
      "outputs": [
        {
          "name": "stdout",
          "output_type": "stream",
          "text": [
            "<class 'pandas.core.frame.DataFrame'>\n",
            "RangeIndex: 20640 entries, 0 to 20639\n",
            "Data columns (total 9 columns):\n",
            " #   Column       Non-Null Count  Dtype  \n",
            "---  ------       --------------  -----  \n",
            " 0   MedInc       20640 non-null  float64\n",
            " 1   HouseAge     20640 non-null  float64\n",
            " 2   AveRooms     20640 non-null  float64\n",
            " 3   AveBedrms    20640 non-null  float64\n",
            " 4   Population   20640 non-null  float64\n",
            " 5   AveOccup     20640 non-null  float64\n",
            " 6   Latitude     20640 non-null  float64\n",
            " 7   Longitude    20640 non-null  float64\n",
            " 8   MedHouseVal  20640 non-null  float64\n",
            "dtypes: float64(9)\n",
            "memory usage: 1.4 MB\n"
          ]
        }
      ],
      "source": [
        "housing.info()"
      ]
    },
    {
      "cell_type": "markdown",
      "metadata": {
        "id": "qI4aG07FhG0r"
      },
      "source": [
        "we can see the first or last five rows with the `.head()` and `.tail()` methods respectively. By default, five rows are selected. "
      ]
    },
    {
      "cell_type": "code",
      "execution_count": null,
      "metadata": {
        "colab": {
          "base_uri": "https://localhost:8080/",
          "height": 204
        },
        "id": "A-ydAPJb8SNC",
        "outputId": "ff668b3e-b7d8-41eb-eefb-ec84b71e2226"
      },
      "outputs": [
        {
          "data": {
            "text/html": [
              "<div>\n",
              "<style scoped>\n",
              "    .dataframe tbody tr th:only-of-type {\n",
              "        vertical-align: middle;\n",
              "    }\n",
              "\n",
              "    .dataframe tbody tr th {\n",
              "        vertical-align: top;\n",
              "    }\n",
              "\n",
              "    .dataframe thead th {\n",
              "        text-align: right;\n",
              "    }\n",
              "</style>\n",
              "<table border=\"1\" class=\"dataframe\">\n",
              "  <thead>\n",
              "    <tr style=\"text-align: right;\">\n",
              "      <th></th>\n",
              "      <th>MedInc</th>\n",
              "      <th>HouseAge</th>\n",
              "      <th>AveRooms</th>\n",
              "      <th>AveBedrms</th>\n",
              "      <th>Population</th>\n",
              "      <th>AveOccup</th>\n",
              "      <th>Latitude</th>\n",
              "      <th>Longitude</th>\n",
              "      <th>MedHouseVal</th>\n",
              "    </tr>\n",
              "  </thead>\n",
              "  <tbody>\n",
              "    <tr>\n",
              "      <th>0</th>\n",
              "      <td>8.3252</td>\n",
              "      <td>41.0</td>\n",
              "      <td>6.984127</td>\n",
              "      <td>1.023810</td>\n",
              "      <td>322.0</td>\n",
              "      <td>2.555556</td>\n",
              "      <td>37.88</td>\n",
              "      <td>-122.23</td>\n",
              "      <td>4.526</td>\n",
              "    </tr>\n",
              "    <tr>\n",
              "      <th>1</th>\n",
              "      <td>8.3014</td>\n",
              "      <td>21.0</td>\n",
              "      <td>6.238137</td>\n",
              "      <td>0.971880</td>\n",
              "      <td>2401.0</td>\n",
              "      <td>2.109842</td>\n",
              "      <td>37.86</td>\n",
              "      <td>-122.22</td>\n",
              "      <td>3.585</td>\n",
              "    </tr>\n",
              "    <tr>\n",
              "      <th>2</th>\n",
              "      <td>7.2574</td>\n",
              "      <td>52.0</td>\n",
              "      <td>8.288136</td>\n",
              "      <td>1.073446</td>\n",
              "      <td>496.0</td>\n",
              "      <td>2.802260</td>\n",
              "      <td>37.85</td>\n",
              "      <td>-122.24</td>\n",
              "      <td>3.521</td>\n",
              "    </tr>\n",
              "    <tr>\n",
              "      <th>3</th>\n",
              "      <td>5.6431</td>\n",
              "      <td>52.0</td>\n",
              "      <td>5.817352</td>\n",
              "      <td>1.073059</td>\n",
              "      <td>558.0</td>\n",
              "      <td>2.547945</td>\n",
              "      <td>37.85</td>\n",
              "      <td>-122.25</td>\n",
              "      <td>3.413</td>\n",
              "    </tr>\n",
              "    <tr>\n",
              "      <th>4</th>\n",
              "      <td>3.8462</td>\n",
              "      <td>52.0</td>\n",
              "      <td>6.281853</td>\n",
              "      <td>1.081081</td>\n",
              "      <td>565.0</td>\n",
              "      <td>2.181467</td>\n",
              "      <td>37.85</td>\n",
              "      <td>-122.25</td>\n",
              "      <td>3.422</td>\n",
              "    </tr>\n",
              "  </tbody>\n",
              "</table>\n",
              "</div>"
            ],
            "text/plain": [
              "   MedInc  HouseAge  AveRooms  AveBedrms  Population  AveOccup  Latitude  \\\n",
              "0  8.3252      41.0  6.984127   1.023810       322.0  2.555556     37.88   \n",
              "1  8.3014      21.0  6.238137   0.971880      2401.0  2.109842     37.86   \n",
              "2  7.2574      52.0  8.288136   1.073446       496.0  2.802260     37.85   \n",
              "3  5.6431      52.0  5.817352   1.073059       558.0  2.547945     37.85   \n",
              "4  3.8462      52.0  6.281853   1.081081       565.0  2.181467     37.85   \n",
              "\n",
              "   Longitude  MedHouseVal  \n",
              "0    -122.23        4.526  \n",
              "1    -122.22        3.585  \n",
              "2    -122.24        3.521  \n",
              "3    -122.25        3.413  \n",
              "4    -122.25        3.422  "
            ]
          },
          "execution_count": 73,
          "metadata": {},
          "output_type": "execute_result"
        }
      ],
      "source": [
        "housing.head()"
      ]
    },
    {
      "cell_type": "markdown",
      "metadata": {
        "id": "J4MZKSg8AYTg"
      },
      "source": [
        "Note that the above output is still a `pandas.core.frame.DataFrame` object, so you can still apply methods on top"
      ]
    },
    {
      "cell_type": "code",
      "execution_count": null,
      "metadata": {
        "colab": {
          "base_uri": "https://localhost:8080/",
          "height": 206
        },
        "id": "oG-cwfBK8Ud-",
        "outputId": "e845e3ac-9e9c-4e4e-8af2-395321f52e63"
      },
      "outputs": [
        {
          "data": {
            "text/html": [
              "<div>\n",
              "<style scoped>\n",
              "    .dataframe tbody tr th:only-of-type {\n",
              "        vertical-align: middle;\n",
              "    }\n",
              "\n",
              "    .dataframe tbody tr th {\n",
              "        vertical-align: top;\n",
              "    }\n",
              "\n",
              "    .dataframe thead th {\n",
              "        text-align: right;\n",
              "    }\n",
              "</style>\n",
              "<table border=\"1\" class=\"dataframe\">\n",
              "  <thead>\n",
              "    <tr style=\"text-align: right;\">\n",
              "      <th></th>\n",
              "      <th>MedInc</th>\n",
              "      <th>HouseAge</th>\n",
              "      <th>AveRooms</th>\n",
              "      <th>AveBedrms</th>\n",
              "      <th>Population</th>\n",
              "      <th>AveOccup</th>\n",
              "      <th>Latitude</th>\n",
              "      <th>Longitude</th>\n",
              "      <th>MedHouseVal</th>\n",
              "    </tr>\n",
              "  </thead>\n",
              "  <tbody>\n",
              "    <tr>\n",
              "      <th>20635</th>\n",
              "      <td>1.5603</td>\n",
              "      <td>25.0</td>\n",
              "      <td>5.045455</td>\n",
              "      <td>1.133333</td>\n",
              "      <td>845.0</td>\n",
              "      <td>2.560606</td>\n",
              "      <td>39.48</td>\n",
              "      <td>-121.09</td>\n",
              "      <td>0.781</td>\n",
              "    </tr>\n",
              "    <tr>\n",
              "      <th>20636</th>\n",
              "      <td>2.5568</td>\n",
              "      <td>18.0</td>\n",
              "      <td>6.114035</td>\n",
              "      <td>1.315789</td>\n",
              "      <td>356.0</td>\n",
              "      <td>3.122807</td>\n",
              "      <td>39.49</td>\n",
              "      <td>-121.21</td>\n",
              "      <td>0.771</td>\n",
              "    </tr>\n",
              "    <tr>\n",
              "      <th>20637</th>\n",
              "      <td>1.7000</td>\n",
              "      <td>17.0</td>\n",
              "      <td>5.205543</td>\n",
              "      <td>1.120092</td>\n",
              "      <td>1007.0</td>\n",
              "      <td>2.325635</td>\n",
              "      <td>39.43</td>\n",
              "      <td>-121.22</td>\n",
              "      <td>0.923</td>\n",
              "    </tr>\n",
              "    <tr>\n",
              "      <th>20638</th>\n",
              "      <td>1.8672</td>\n",
              "      <td>18.0</td>\n",
              "      <td>5.329513</td>\n",
              "      <td>1.171920</td>\n",
              "      <td>741.0</td>\n",
              "      <td>2.123209</td>\n",
              "      <td>39.43</td>\n",
              "      <td>-121.32</td>\n",
              "      <td>0.847</td>\n",
              "    </tr>\n",
              "    <tr>\n",
              "      <th>20639</th>\n",
              "      <td>2.3886</td>\n",
              "      <td>16.0</td>\n",
              "      <td>5.254717</td>\n",
              "      <td>1.162264</td>\n",
              "      <td>1387.0</td>\n",
              "      <td>2.616981</td>\n",
              "      <td>39.37</td>\n",
              "      <td>-121.24</td>\n",
              "      <td>0.894</td>\n",
              "    </tr>\n",
              "  </tbody>\n",
              "</table>\n",
              "</div>"
            ],
            "text/plain": [
              "       MedInc  HouseAge  AveRooms  AveBedrms  Population  AveOccup  Latitude  \\\n",
              "20635  1.5603      25.0  5.045455   1.133333       845.0  2.560606     39.48   \n",
              "20636  2.5568      18.0  6.114035   1.315789       356.0  3.122807     39.49   \n",
              "20637  1.7000      17.0  5.205543   1.120092      1007.0  2.325635     39.43   \n",
              "20638  1.8672      18.0  5.329513   1.171920       741.0  2.123209     39.43   \n",
              "20639  2.3886      16.0  5.254717   1.162264      1387.0  2.616981     39.37   \n",
              "\n",
              "       Longitude  MedHouseVal  \n",
              "20635    -121.09        0.781  \n",
              "20636    -121.21        0.771  \n",
              "20637    -121.22        0.923  \n",
              "20638    -121.32        0.847  \n",
              "20639    -121.24        0.894  "
            ]
          },
          "execution_count": 74,
          "metadata": {},
          "output_type": "execute_result"
        }
      ],
      "source": [
        "housing.tail()"
      ]
    },
    {
      "cell_type": "markdown",
      "metadata": {
        "id": "wSZUmdmAMaKr"
      },
      "source": [
        "`.sample()` method is used to randomly sample rows of the dataset. In this case, we specify the number of rows selected."
      ]
    },
    {
      "cell_type": "code",
      "execution_count": null,
      "metadata": {
        "colab": {
          "base_uri": "https://localhost:8080/",
          "height": 204
        },
        "id": "zjHGvTpu8bBt",
        "outputId": "393d60a4-3470-49f0-ffc5-3db4423cc5e9"
      },
      "outputs": [
        {
          "data": {
            "text/html": [
              "<div>\n",
              "<style scoped>\n",
              "    .dataframe tbody tr th:only-of-type {\n",
              "        vertical-align: middle;\n",
              "    }\n",
              "\n",
              "    .dataframe tbody tr th {\n",
              "        vertical-align: top;\n",
              "    }\n",
              "\n",
              "    .dataframe thead th {\n",
              "        text-align: right;\n",
              "    }\n",
              "</style>\n",
              "<table border=\"1\" class=\"dataframe\">\n",
              "  <thead>\n",
              "    <tr style=\"text-align: right;\">\n",
              "      <th></th>\n",
              "      <th>MedInc</th>\n",
              "      <th>HouseAge</th>\n",
              "      <th>AveRooms</th>\n",
              "      <th>AveBedrms</th>\n",
              "      <th>Population</th>\n",
              "      <th>AveOccup</th>\n",
              "      <th>Latitude</th>\n",
              "      <th>Longitude</th>\n",
              "      <th>MedHouseVal</th>\n",
              "    </tr>\n",
              "  </thead>\n",
              "  <tbody>\n",
              "    <tr>\n",
              "      <th>6343</th>\n",
              "      <td>0.4999</td>\n",
              "      <td>52.0</td>\n",
              "      <td>3.875000</td>\n",
              "      <td>0.562500</td>\n",
              "      <td>44.0</td>\n",
              "      <td>2.750000</td>\n",
              "      <td>34.06</td>\n",
              "      <td>-117.75</td>\n",
              "      <td>1.125</td>\n",
              "    </tr>\n",
              "    <tr>\n",
              "      <th>16859</th>\n",
              "      <td>2.2250</td>\n",
              "      <td>41.0</td>\n",
              "      <td>5.157895</td>\n",
              "      <td>1.052632</td>\n",
              "      <td>68.0</td>\n",
              "      <td>3.578947</td>\n",
              "      <td>37.64</td>\n",
              "      <td>-122.42</td>\n",
              "      <td>2.125</td>\n",
              "    </tr>\n",
              "    <tr>\n",
              "      <th>128</th>\n",
              "      <td>7.5544</td>\n",
              "      <td>40.0</td>\n",
              "      <td>7.631498</td>\n",
              "      <td>1.030581</td>\n",
              "      <td>1616.0</td>\n",
              "      <td>2.470948</td>\n",
              "      <td>37.83</td>\n",
              "      <td>-122.21</td>\n",
              "      <td>4.115</td>\n",
              "    </tr>\n",
              "    <tr>\n",
              "      <th>10177</th>\n",
              "      <td>3.6471</td>\n",
              "      <td>12.0</td>\n",
              "      <td>4.628378</td>\n",
              "      <td>1.239865</td>\n",
              "      <td>1022.0</td>\n",
              "      <td>3.452703</td>\n",
              "      <td>33.86</td>\n",
              "      <td>-117.97</td>\n",
              "      <td>1.417</td>\n",
              "    </tr>\n",
              "    <tr>\n",
              "      <th>13919</th>\n",
              "      <td>1.3571</td>\n",
              "      <td>34.0</td>\n",
              "      <td>9.144208</td>\n",
              "      <td>2.971631</td>\n",
              "      <td>890.0</td>\n",
              "      <td>2.104019</td>\n",
              "      <td>34.20</td>\n",
              "      <td>-115.85</td>\n",
              "      <td>0.410</td>\n",
              "    </tr>\n",
              "  </tbody>\n",
              "</table>\n",
              "</div>"
            ],
            "text/plain": [
              "       MedInc  HouseAge  AveRooms  AveBedrms  Population  AveOccup  Latitude  \\\n",
              "6343   0.4999      52.0  3.875000   0.562500        44.0  2.750000     34.06   \n",
              "16859  2.2250      41.0  5.157895   1.052632        68.0  3.578947     37.64   \n",
              "128    7.5544      40.0  7.631498   1.030581      1616.0  2.470948     37.83   \n",
              "10177  3.6471      12.0  4.628378   1.239865      1022.0  3.452703     33.86   \n",
              "13919  1.3571      34.0  9.144208   2.971631       890.0  2.104019     34.20   \n",
              "\n",
              "       Longitude  MedHouseVal  \n",
              "6343     -117.75        1.125  \n",
              "16859    -122.42        2.125  \n",
              "128      -122.21        4.115  \n",
              "10177    -117.97        1.417  \n",
              "13919    -115.85        0.410  "
            ]
          },
          "execution_count": 75,
          "metadata": {},
          "output_type": "execute_result"
        }
      ],
      "source": [
        "housing.sample(5)"
      ]
    },
    {
      "cell_type": "markdown",
      "metadata": {
        "id": "ORemkqBBR-Qx"
      },
      "source": [
        "We can quickly get basic statistics from each column with the `.describe()` method:"
      ]
    },
    {
      "cell_type": "code",
      "execution_count": null,
      "metadata": {
        "colab": {
          "base_uri": "https://localhost:8080/",
          "height": 300
        },
        "id": "iG2td_ot8hPb",
        "outputId": "5b716358-471a-432a-e5ed-d53b5574944c"
      },
      "outputs": [
        {
          "data": {
            "text/html": [
              "<div>\n",
              "<style scoped>\n",
              "    .dataframe tbody tr th:only-of-type {\n",
              "        vertical-align: middle;\n",
              "    }\n",
              "\n",
              "    .dataframe tbody tr th {\n",
              "        vertical-align: top;\n",
              "    }\n",
              "\n",
              "    .dataframe thead th {\n",
              "        text-align: right;\n",
              "    }\n",
              "</style>\n",
              "<table border=\"1\" class=\"dataframe\">\n",
              "  <thead>\n",
              "    <tr style=\"text-align: right;\">\n",
              "      <th></th>\n",
              "      <th>MedInc</th>\n",
              "      <th>HouseAge</th>\n",
              "      <th>AveRooms</th>\n",
              "      <th>AveBedrms</th>\n",
              "      <th>Population</th>\n",
              "      <th>AveOccup</th>\n",
              "      <th>Latitude</th>\n",
              "      <th>Longitude</th>\n",
              "      <th>MedHouseVal</th>\n",
              "    </tr>\n",
              "  </thead>\n",
              "  <tbody>\n",
              "    <tr>\n",
              "      <th>count</th>\n",
              "      <td>20640.000000</td>\n",
              "      <td>20640.000000</td>\n",
              "      <td>20640.000000</td>\n",
              "      <td>20640.000000</td>\n",
              "      <td>20640.000000</td>\n",
              "      <td>20640.000000</td>\n",
              "      <td>20640.000000</td>\n",
              "      <td>20640.000000</td>\n",
              "      <td>20640.000000</td>\n",
              "    </tr>\n",
              "    <tr>\n",
              "      <th>mean</th>\n",
              "      <td>3.870671</td>\n",
              "      <td>28.639486</td>\n",
              "      <td>5.429000</td>\n",
              "      <td>1.096675</td>\n",
              "      <td>1425.476744</td>\n",
              "      <td>3.070655</td>\n",
              "      <td>35.631861</td>\n",
              "      <td>-119.569704</td>\n",
              "      <td>2.068558</td>\n",
              "    </tr>\n",
              "    <tr>\n",
              "      <th>std</th>\n",
              "      <td>1.899822</td>\n",
              "      <td>12.585558</td>\n",
              "      <td>2.474173</td>\n",
              "      <td>0.473911</td>\n",
              "      <td>1132.462122</td>\n",
              "      <td>10.386050</td>\n",
              "      <td>2.135952</td>\n",
              "      <td>2.003532</td>\n",
              "      <td>1.153956</td>\n",
              "    </tr>\n",
              "    <tr>\n",
              "      <th>min</th>\n",
              "      <td>0.499900</td>\n",
              "      <td>1.000000</td>\n",
              "      <td>0.846154</td>\n",
              "      <td>0.333333</td>\n",
              "      <td>3.000000</td>\n",
              "      <td>0.692308</td>\n",
              "      <td>32.540000</td>\n",
              "      <td>-124.350000</td>\n",
              "      <td>0.149990</td>\n",
              "    </tr>\n",
              "    <tr>\n",
              "      <th>25%</th>\n",
              "      <td>2.563400</td>\n",
              "      <td>18.000000</td>\n",
              "      <td>4.440716</td>\n",
              "      <td>1.006079</td>\n",
              "      <td>787.000000</td>\n",
              "      <td>2.429741</td>\n",
              "      <td>33.930000</td>\n",
              "      <td>-121.800000</td>\n",
              "      <td>1.196000</td>\n",
              "    </tr>\n",
              "    <tr>\n",
              "      <th>50%</th>\n",
              "      <td>3.534800</td>\n",
              "      <td>29.000000</td>\n",
              "      <td>5.229129</td>\n",
              "      <td>1.048780</td>\n",
              "      <td>1166.000000</td>\n",
              "      <td>2.818116</td>\n",
              "      <td>34.260000</td>\n",
              "      <td>-118.490000</td>\n",
              "      <td>1.797000</td>\n",
              "    </tr>\n",
              "    <tr>\n",
              "      <th>75%</th>\n",
              "      <td>4.743250</td>\n",
              "      <td>37.000000</td>\n",
              "      <td>6.052381</td>\n",
              "      <td>1.099526</td>\n",
              "      <td>1725.000000</td>\n",
              "      <td>3.282261</td>\n",
              "      <td>37.710000</td>\n",
              "      <td>-118.010000</td>\n",
              "      <td>2.647250</td>\n",
              "    </tr>\n",
              "    <tr>\n",
              "      <th>max</th>\n",
              "      <td>15.000100</td>\n",
              "      <td>52.000000</td>\n",
              "      <td>141.909091</td>\n",
              "      <td>34.066667</td>\n",
              "      <td>35682.000000</td>\n",
              "      <td>1243.333333</td>\n",
              "      <td>41.950000</td>\n",
              "      <td>-114.310000</td>\n",
              "      <td>5.000010</td>\n",
              "    </tr>\n",
              "  </tbody>\n",
              "</table>\n",
              "</div>"
            ],
            "text/plain": [
              "             MedInc      HouseAge      AveRooms     AveBedrms    Population  \\\n",
              "count  20640.000000  20640.000000  20640.000000  20640.000000  20640.000000   \n",
              "mean       3.870671     28.639486      5.429000      1.096675   1425.476744   \n",
              "std        1.899822     12.585558      2.474173      0.473911   1132.462122   \n",
              "min        0.499900      1.000000      0.846154      0.333333      3.000000   \n",
              "25%        2.563400     18.000000      4.440716      1.006079    787.000000   \n",
              "50%        3.534800     29.000000      5.229129      1.048780   1166.000000   \n",
              "75%        4.743250     37.000000      6.052381      1.099526   1725.000000   \n",
              "max       15.000100     52.000000    141.909091     34.066667  35682.000000   \n",
              "\n",
              "           AveOccup      Latitude     Longitude   MedHouseVal  \n",
              "count  20640.000000  20640.000000  20640.000000  20640.000000  \n",
              "mean       3.070655     35.631861   -119.569704      2.068558  \n",
              "std       10.386050      2.135952      2.003532      1.153956  \n",
              "min        0.692308     32.540000   -124.350000      0.149990  \n",
              "25%        2.429741     33.930000   -121.800000      1.196000  \n",
              "50%        2.818116     34.260000   -118.490000      1.797000  \n",
              "75%        3.282261     37.710000   -118.010000      2.647250  \n",
              "max     1243.333333     41.950000   -114.310000      5.000010  "
            ]
          },
          "execution_count": 76,
          "metadata": {},
          "output_type": "execute_result"
        }
      ],
      "source": [
        "housing.describe()"
      ]
    },
    {
      "cell_type": "markdown",
      "metadata": {
        "id": "LITaHKDZ78Qe"
      },
      "source": [
        "## Mini-challenge:\n",
        "\n",
        "Sample two rows from the first five rows of the dataset"
      ]
    },
    {
      "cell_type": "code",
      "execution_count": null,
      "metadata": {
        "id": "-59XpGXk8EyG"
      },
      "outputs": [],
      "source": [
        "# you answer here"
      ]
    },
    {
      "cell_type": "markdown",
      "metadata": {
        "id": "az9fq7sG0sLa"
      },
      "source": [
        "# Column selection\n",
        "\n",
        "If we want to list all available columns, we use the `.columns` method:"
      ]
    },
    {
      "cell_type": "code",
      "execution_count": null,
      "metadata": {
        "colab": {
          "base_uri": "https://localhost:8080/"
        },
        "id": "dULE-0IL8kUx",
        "outputId": "b7c1d9c2-189d-49c5-cc2d-f654573cd6f9"
      },
      "outputs": [
        {
          "data": {
            "text/plain": [
              "Index(['MedInc', 'HouseAge', 'AveRooms', 'AveBedrms', 'Population', 'AveOccup',\n",
              "       'Latitude', 'Longitude', 'MedHouseVal'],\n",
              "      dtype='object')"
            ]
          },
          "execution_count": 78,
          "metadata": {},
          "output_type": "execute_result"
        }
      ],
      "source": [
        "housing.columns"
      ]
    },
    {
      "cell_type": "markdown",
      "metadata": {
        "id": "pM6F7hlEjNR0"
      },
      "source": [
        "If we want to inspect an specific column, we can select it by using the following structure:\n",
        "\n",
        "```python\n",
        "df['column']\n",
        "```\n",
        "\n",
        "For example, if we want to get the first two rows of `AveRooms` column, we will use:"
      ]
    },
    {
      "cell_type": "code",
      "execution_count": null,
      "metadata": {
        "colab": {
          "base_uri": "https://localhost:8080/"
        },
        "id": "HSJ4rKIy8l1R",
        "outputId": "9a9c4f28-0362-42c8-9b2b-c516057c7cd4"
      },
      "outputs": [
        {
          "data": {
            "text/plain": [
              "0    6.984127\n",
              "1    6.238137\n",
              "Name: AveRooms, dtype: float64"
            ]
          },
          "execution_count": 79,
          "metadata": {},
          "output_type": "execute_result"
        }
      ],
      "source": [
        "housing['AveRooms'].head(2)"
      ]
    },
    {
      "cell_type": "markdown",
      "metadata": {
        "id": "LUB-XEbKR0zC"
      },
      "source": [
        "Similarly, we wanto to select more than one column, we can select them by using a list of names:\n",
        "\n",
        "```python\n",
        "df[['column 1', 'column 2']]\n",
        "```\n",
        "For example, below we use the list `['Population', 'AveRooms']` to select the fist two rows"
      ]
    },
    {
      "cell_type": "code",
      "execution_count": null,
      "metadata": {
        "colab": {
          "base_uri": "https://localhost:8080/",
          "height": 112
        },
        "id": "jkpX0w9m8osR",
        "outputId": "0ff13e1c-8a2b-4824-da54-a9401dcdcc48"
      },
      "outputs": [
        {
          "data": {
            "text/html": [
              "<div>\n",
              "<style scoped>\n",
              "    .dataframe tbody tr th:only-of-type {\n",
              "        vertical-align: middle;\n",
              "    }\n",
              "\n",
              "    .dataframe tbody tr th {\n",
              "        vertical-align: top;\n",
              "    }\n",
              "\n",
              "    .dataframe thead th {\n",
              "        text-align: right;\n",
              "    }\n",
              "</style>\n",
              "<table border=\"1\" class=\"dataframe\">\n",
              "  <thead>\n",
              "    <tr style=\"text-align: right;\">\n",
              "      <th></th>\n",
              "      <th>Population</th>\n",
              "      <th>AveRooms</th>\n",
              "    </tr>\n",
              "  </thead>\n",
              "  <tbody>\n",
              "    <tr>\n",
              "      <th>0</th>\n",
              "      <td>322.0</td>\n",
              "      <td>6.984127</td>\n",
              "    </tr>\n",
              "    <tr>\n",
              "      <th>1</th>\n",
              "      <td>2401.0</td>\n",
              "      <td>6.238137</td>\n",
              "    </tr>\n",
              "  </tbody>\n",
              "</table>\n",
              "</div>"
            ],
            "text/plain": [
              "   Population  AveRooms\n",
              "0       322.0  6.984127\n",
              "1      2401.0  6.238137"
            ]
          },
          "execution_count": 80,
          "metadata": {},
          "output_type": "execute_result"
        }
      ],
      "source": [
        "housing[['Population', 'AveRooms']].head(2)"
      ]
    },
    {
      "cell_type": "markdown",
      "metadata": {
        "id": "kEBasGT9ZXJ4"
      },
      "source": [
        "Another table can be created by storing above results"
      ]
    },
    {
      "cell_type": "code",
      "execution_count": null,
      "metadata": {
        "colab": {
          "base_uri": "https://localhost:8080/",
          "height": 111
        },
        "id": "9z5fmGhWZWgS",
        "outputId": "d3342c9c-344e-40c4-e9fd-849aded84d3e"
      },
      "outputs": [
        {
          "data": {
            "text/html": [
              "<div>\n",
              "<style scoped>\n",
              "    .dataframe tbody tr th:only-of-type {\n",
              "        vertical-align: middle;\n",
              "    }\n",
              "\n",
              "    .dataframe tbody tr th {\n",
              "        vertical-align: top;\n",
              "    }\n",
              "\n",
              "    .dataframe thead th {\n",
              "        text-align: right;\n",
              "    }\n",
              "</style>\n",
              "<table border=\"1\" class=\"dataframe\">\n",
              "  <thead>\n",
              "    <tr style=\"text-align: right;\">\n",
              "      <th></th>\n",
              "      <th>Population</th>\n",
              "      <th>AveRooms</th>\n",
              "    </tr>\n",
              "  </thead>\n",
              "  <tbody>\n",
              "    <tr>\n",
              "      <th>0</th>\n",
              "      <td>322.0</td>\n",
              "      <td>6.984127</td>\n",
              "    </tr>\n",
              "    <tr>\n",
              "      <th>1</th>\n",
              "      <td>2401.0</td>\n",
              "      <td>6.238137</td>\n",
              "    </tr>\n",
              "  </tbody>\n",
              "</table>\n",
              "</div>"
            ],
            "text/plain": [
              "   Population  AveRooms\n",
              "0       322.0  6.984127\n",
              "1      2401.0  6.238137"
            ]
          },
          "execution_count": 81,
          "metadata": {},
          "output_type": "execute_result"
        }
      ],
      "source": [
        "df2 = housing[['Population', 'AveRooms']].head(2)\n",
        "df2"
      ]
    },
    {
      "cell_type": "markdown",
      "metadata": {
        "id": "OBOYAy0lrYSo"
      },
      "source": [
        "If you know the exact location of a column (i.e., index), you can also call the column, as well as the rows, by using the method `.iloc`. In the following line, for example, `0:2` denotes the first two columns, and `[4,2]` denotes columns 4 and 2"
      ]
    },
    {
      "cell_type": "code",
      "execution_count": null,
      "metadata": {
        "colab": {
          "base_uri": "https://localhost:8080/",
          "height": 111
        },
        "id": "vIRRAG2brY91",
        "outputId": "195e2178-9eed-4137-971f-97ec4bd42f9e"
      },
      "outputs": [
        {
          "data": {
            "text/html": [
              "<div>\n",
              "<style scoped>\n",
              "    .dataframe tbody tr th:only-of-type {\n",
              "        vertical-align: middle;\n",
              "    }\n",
              "\n",
              "    .dataframe tbody tr th {\n",
              "        vertical-align: top;\n",
              "    }\n",
              "\n",
              "    .dataframe thead th {\n",
              "        text-align: right;\n",
              "    }\n",
              "</style>\n",
              "<table border=\"1\" class=\"dataframe\">\n",
              "  <thead>\n",
              "    <tr style=\"text-align: right;\">\n",
              "      <th></th>\n",
              "      <th>Population</th>\n",
              "      <th>AveRooms</th>\n",
              "    </tr>\n",
              "  </thead>\n",
              "  <tbody>\n",
              "    <tr>\n",
              "      <th>0</th>\n",
              "      <td>322.0</td>\n",
              "      <td>6.984127</td>\n",
              "    </tr>\n",
              "    <tr>\n",
              "      <th>1</th>\n",
              "      <td>2401.0</td>\n",
              "      <td>6.238137</td>\n",
              "    </tr>\n",
              "  </tbody>\n",
              "</table>\n",
              "</div>"
            ],
            "text/plain": [
              "   Population  AveRooms\n",
              "0       322.0  6.984127\n",
              "1      2401.0  6.238137"
            ]
          },
          "execution_count": 82,
          "metadata": {},
          "output_type": "execute_result"
        }
      ],
      "source": [
        "housing.iloc[0:2, [4,2]]"
      ]
    },
    {
      "cell_type": "markdown",
      "metadata": {
        "id": "a4lOF8WD1UlC"
      },
      "source": [
        "# Column modification\n",
        "\n",
        "We can generate a new column on the fly by directly assigning values into the new column name. The structure of the assignment should follow this structure:\n",
        "\n",
        "```python\n",
        "df['new column'] = 'new values'\n",
        "```\n",
        "where `'new values'` is a series of values that `'new column'` will store. For example, we can create a new column called `'income_cat'` that, for each row, has `True` if the value of the median income is below 3.87, and `False` otherwise:"
      ]
    },
    {
      "cell_type": "code",
      "execution_count": null,
      "metadata": {
        "colab": {
          "base_uri": "https://localhost:8080/",
          "height": 300
        },
        "id": "iQOe3pzpL0td",
        "outputId": "de5aaf87-f190-4327-e87e-5ba0bf5d21f9"
      },
      "outputs": [
        {
          "data": {
            "text/html": [
              "<div>\n",
              "<style scoped>\n",
              "    .dataframe tbody tr th:only-of-type {\n",
              "        vertical-align: middle;\n",
              "    }\n",
              "\n",
              "    .dataframe tbody tr th {\n",
              "        vertical-align: top;\n",
              "    }\n",
              "\n",
              "    .dataframe thead th {\n",
              "        text-align: right;\n",
              "    }\n",
              "</style>\n",
              "<table border=\"1\" class=\"dataframe\">\n",
              "  <thead>\n",
              "    <tr style=\"text-align: right;\">\n",
              "      <th></th>\n",
              "      <th>MedInc</th>\n",
              "      <th>income_cat</th>\n",
              "    </tr>\n",
              "  </thead>\n",
              "  <tbody>\n",
              "    <tr>\n",
              "      <th>498</th>\n",
              "      <td>2.2431</td>\n",
              "      <td>True</td>\n",
              "    </tr>\n",
              "    <tr>\n",
              "      <th>5335</th>\n",
              "      <td>3.6976</td>\n",
              "      <td>True</td>\n",
              "    </tr>\n",
              "    <tr>\n",
              "      <th>18513</th>\n",
              "      <td>4.0417</td>\n",
              "      <td>False</td>\n",
              "    </tr>\n",
              "    <tr>\n",
              "      <th>6184</th>\n",
              "      <td>5.0123</td>\n",
              "      <td>False</td>\n",
              "    </tr>\n",
              "    <tr>\n",
              "      <th>139</th>\n",
              "      <td>6.3302</td>\n",
              "      <td>False</td>\n",
              "    </tr>\n",
              "    <tr>\n",
              "      <th>4656</th>\n",
              "      <td>2.1736</td>\n",
              "      <td>True</td>\n",
              "    </tr>\n",
              "    <tr>\n",
              "      <th>1564</th>\n",
              "      <td>12.5915</td>\n",
              "      <td>False</td>\n",
              "    </tr>\n",
              "    <tr>\n",
              "      <th>12131</th>\n",
              "      <td>3.2148</td>\n",
              "      <td>True</td>\n",
              "    </tr>\n",
              "  </tbody>\n",
              "</table>\n",
              "</div>"
            ],
            "text/plain": [
              "        MedInc  income_cat\n",
              "498     2.2431        True\n",
              "5335    3.6976        True\n",
              "18513   4.0417       False\n",
              "6184    5.0123       False\n",
              "139     6.3302       False\n",
              "4656    2.1736        True\n",
              "1564   12.5915       False\n",
              "12131   3.2148        True"
            ]
          },
          "execution_count": 83,
          "metadata": {},
          "output_type": "execute_result"
        }
      ],
      "source": [
        "housing['income_cat'] =  housing['MedInc'] < 3.87\n",
        "housing[['MedInc', 'income_cat']].sample(8)"
      ]
    },
    {
      "cell_type": "markdown",
      "metadata": {
        "id": "4fHVLj3JPLvn"
      },
      "source": [
        "## Challenge:\n",
        "\n",
        "Create a new column called `is_pop_large` that label rows `False` if the block group population is below the overall average, and `True` otherwise. Select the  `Population` column and the previously created `is_pop_large` column, and sample 8 rows.\n",
        "\n",
        "*Hint*: Use results previously obtained from `housing.describe()` to create bins\n",
        "\n"
      ]
    },
    {
      "cell_type": "code",
      "execution_count": null,
      "metadata": {
        "id": "O-dfLKynPYPD"
      },
      "outputs": [],
      "source": [
        "# your solution\n"
      ]
    },
    {
      "cell_type": "markdown",
      "metadata": {
        "id": "npBAF22eRL0I"
      },
      "source": [
        "`pandas` can also crate more complex categories. In the example below, we create a column storing income categories based on the median income:"
      ]
    },
    {
      "cell_type": "code",
      "execution_count": null,
      "metadata": {
        "colab": {
          "base_uri": "https://localhost:8080/",
          "height": 297
        },
        "id": "bnrYUbD48vCF",
        "outputId": "29450f07-c72a-4462-d6d3-d0df3f2e174b"
      },
      "outputs": [
        {
          "data": {
            "text/html": [
              "<div>\n",
              "<style scoped>\n",
              "    .dataframe tbody tr th:only-of-type {\n",
              "        vertical-align: middle;\n",
              "    }\n",
              "\n",
              "    .dataframe tbody tr th {\n",
              "        vertical-align: top;\n",
              "    }\n",
              "\n",
              "    .dataframe thead th {\n",
              "        text-align: right;\n",
              "    }\n",
              "</style>\n",
              "<table border=\"1\" class=\"dataframe\">\n",
              "  <thead>\n",
              "    <tr style=\"text-align: right;\">\n",
              "      <th></th>\n",
              "      <th>MedInc</th>\n",
              "      <th>income_cat</th>\n",
              "    </tr>\n",
              "  </thead>\n",
              "  <tbody>\n",
              "    <tr>\n",
              "      <th>11231</th>\n",
              "      <td>4.3269</td>\n",
              "      <td>3</td>\n",
              "    </tr>\n",
              "    <tr>\n",
              "      <th>4853</th>\n",
              "      <td>1.8564</td>\n",
              "      <td>2</td>\n",
              "    </tr>\n",
              "    <tr>\n",
              "      <th>18841</th>\n",
              "      <td>2.2024</td>\n",
              "      <td>2</td>\n",
              "    </tr>\n",
              "    <tr>\n",
              "      <th>158</th>\n",
              "      <td>7.5080</td>\n",
              "      <td>5</td>\n",
              "    </tr>\n",
              "    <tr>\n",
              "      <th>2970</th>\n",
              "      <td>7.1837</td>\n",
              "      <td>5</td>\n",
              "    </tr>\n",
              "    <tr>\n",
              "      <th>15099</th>\n",
              "      <td>2.5430</td>\n",
              "      <td>2</td>\n",
              "    </tr>\n",
              "    <tr>\n",
              "      <th>13622</th>\n",
              "      <td>1.4620</td>\n",
              "      <td>1</td>\n",
              "    </tr>\n",
              "    <tr>\n",
              "      <th>15917</th>\n",
              "      <td>2.3087</td>\n",
              "      <td>2</td>\n",
              "    </tr>\n",
              "  </tbody>\n",
              "</table>\n",
              "</div>"
            ],
            "text/plain": [
              "       MedInc income_cat\n",
              "11231  4.3269          3\n",
              "4853   1.8564          2\n",
              "18841  2.2024          2\n",
              "158    7.5080          5\n",
              "2970   7.1837          5\n",
              "15099  2.5430          2\n",
              "13622  1.4620          1\n",
              "15917  2.3087          2"
            ]
          },
          "execution_count": 85,
          "metadata": {},
          "output_type": "execute_result"
        }
      ],
      "source": [
        "# crates more complex categories based on median income\n",
        "housing['income_cat'] = pd.cut( housing['MedInc'],\n",
        "                                bins   = [0., 1.5, 3.0, 4.5, 6.0, 16],\n",
        "                                labels = [  1,   2,   3,   4,   5   ] ) \n",
        "\n",
        "housing[['MedInc', 'income_cat']].sample(8)"
      ]
    },
    {
      "cell_type": "markdown",
      "metadata": {
        "id": "3eqWvmDwELw-"
      },
      "source": [
        "by default, bins includes the rightmost edge (i.e., `(0, 1.5]`, `(1.5, 3.0]`). You can change this behaviour (i.e., `[0, 1.5)`, `[1.5, 3.0)`)with the argument `right = False`\n",
        "\n"
      ]
    },
    {
      "cell_type": "markdown",
      "metadata": {
        "id": "BRXKYq0G0r1U"
      },
      "source": [
        "# Filtering\n",
        "\n",
        "As seen before, we can generate a series of boolean values by using comparison operators (e.g., `<`, `>`, `==`). In the example below, we will compare values of the `'Population'` column with 2000:"
      ]
    },
    {
      "cell_type": "code",
      "execution_count": null,
      "metadata": {
        "colab": {
          "base_uri": "https://localhost:8080/"
        },
        "id": "-GweUAxj9Iol",
        "outputId": "b885aa81-076c-4c7f-dd6a-b194462b16f1"
      },
      "outputs": [
        {
          "data": {
            "text/plain": [
              "0        False\n",
              "1         True\n",
              "2        False\n",
              "3        False\n",
              "4        False\n",
              "         ...  \n",
              "20635    False\n",
              "20636    False\n",
              "20637    False\n",
              "20638    False\n",
              "20639    False\n",
              "Name: Population, Length: 20640, dtype: bool"
            ]
          },
          "execution_count": 86,
          "metadata": {},
          "output_type": "execute_result"
        }
      ],
      "source": [
        "# generates a series of boolean values\n",
        "housing['Population'] > 2000"
      ]
    },
    {
      "cell_type": "markdown",
      "metadata": {
        "id": "Yd3jgDPheM66"
      },
      "source": [
        "Series of bolean values is pretty useful for "
      ]
    },
    {
      "cell_type": "code",
      "execution_count": null,
      "metadata": {
        "colab": {
          "base_uri": "https://localhost:8080/",
          "height": 206
        },
        "id": "pVznrEwo9LHB",
        "outputId": "7ea7a4ac-e54b-4f1b-a83e-b509c1ba2cfc"
      },
      "outputs": [
        {
          "data": {
            "text/html": [
              "<div>\n",
              "<style scoped>\n",
              "    .dataframe tbody tr th:only-of-type {\n",
              "        vertical-align: middle;\n",
              "    }\n",
              "\n",
              "    .dataframe tbody tr th {\n",
              "        vertical-align: top;\n",
              "    }\n",
              "\n",
              "    .dataframe thead th {\n",
              "        text-align: right;\n",
              "    }\n",
              "</style>\n",
              "<table border=\"1\" class=\"dataframe\">\n",
              "  <thead>\n",
              "    <tr style=\"text-align: right;\">\n",
              "      <th></th>\n",
              "      <th>MedInc</th>\n",
              "      <th>HouseAge</th>\n",
              "      <th>AveRooms</th>\n",
              "      <th>AveBedrms</th>\n",
              "      <th>Population</th>\n",
              "      <th>AveOccup</th>\n",
              "      <th>Latitude</th>\n",
              "      <th>Longitude</th>\n",
              "      <th>MedHouseVal</th>\n",
              "      <th>income_cat</th>\n",
              "    </tr>\n",
              "  </thead>\n",
              "  <tbody>\n",
              "    <tr>\n",
              "      <th>1</th>\n",
              "      <td>8.3014</td>\n",
              "      <td>21.0</td>\n",
              "      <td>6.238137</td>\n",
              "      <td>0.971880</td>\n",
              "      <td>2401.0</td>\n",
              "      <td>2.109842</td>\n",
              "      <td>37.86</td>\n",
              "      <td>-122.22</td>\n",
              "      <td>3.585</td>\n",
              "      <td>5</td>\n",
              "    </tr>\n",
              "    <tr>\n",
              "      <th>95</th>\n",
              "      <td>2.0096</td>\n",
              "      <td>36.0</td>\n",
              "      <td>2.294016</td>\n",
              "      <td>1.066294</td>\n",
              "      <td>3469.0</td>\n",
              "      <td>1.493328</td>\n",
              "      <td>37.80</td>\n",
              "      <td>-122.26</td>\n",
              "      <td>1.300</td>\n",
              "      <td>2</td>\n",
              "    </tr>\n",
              "    <tr>\n",
              "      <th>96</th>\n",
              "      <td>2.8345</td>\n",
              "      <td>31.0</td>\n",
              "      <td>3.894915</td>\n",
              "      <td>1.127966</td>\n",
              "      <td>2048.0</td>\n",
              "      <td>1.735593</td>\n",
              "      <td>37.82</td>\n",
              "      <td>-122.26</td>\n",
              "      <td>1.838</td>\n",
              "      <td>2</td>\n",
              "    </tr>\n",
              "    <tr>\n",
              "      <th>98</th>\n",
              "      <td>1.2185</td>\n",
              "      <td>22.0</td>\n",
              "      <td>2.945600</td>\n",
              "      <td>1.016000</td>\n",
              "      <td>2024.0</td>\n",
              "      <td>1.619200</td>\n",
              "      <td>37.82</td>\n",
              "      <td>-122.26</td>\n",
              "      <td>1.700</td>\n",
              "      <td>1</td>\n",
              "    </tr>\n",
              "    <tr>\n",
              "      <th>100</th>\n",
              "      <td>2.4912</td>\n",
              "      <td>29.0</td>\n",
              "      <td>3.724800</td>\n",
              "      <td>1.131200</td>\n",
              "      <td>2304.0</td>\n",
              "      <td>1.843200</td>\n",
              "      <td>37.81</td>\n",
              "      <td>-122.25</td>\n",
              "      <td>2.578</td>\n",
              "      <td>2</td>\n",
              "    </tr>\n",
              "  </tbody>\n",
              "</table>\n",
              "</div>"
            ],
            "text/plain": [
              "     MedInc  HouseAge  AveRooms  AveBedrms  Population  AveOccup  Latitude  \\\n",
              "1    8.3014      21.0  6.238137   0.971880      2401.0  2.109842     37.86   \n",
              "95   2.0096      36.0  2.294016   1.066294      3469.0  1.493328     37.80   \n",
              "96   2.8345      31.0  3.894915   1.127966      2048.0  1.735593     37.82   \n",
              "98   1.2185      22.0  2.945600   1.016000      2024.0  1.619200     37.82   \n",
              "100  2.4912      29.0  3.724800   1.131200      2304.0  1.843200     37.81   \n",
              "\n",
              "     Longitude  MedHouseVal income_cat  \n",
              "1      -122.22        3.585          5  \n",
              "95     -122.26        1.300          2  \n",
              "96     -122.26        1.838          2  \n",
              "98     -122.26        1.700          1  \n",
              "100    -122.25        2.578          2  "
            ]
          },
          "execution_count": 87,
          "metadata": {},
          "output_type": "execute_result"
        }
      ],
      "source": [
        "# which can be used to filter rows\n",
        "housing[ housing['Population'] > 2000 ].head()"
      ]
    },
    {
      "cell_type": "markdown",
      "metadata": {
        "id": "DxyX00zqeM66"
      },
      "source": [
        "Note that the `'Population'` column contains values greater than 2000. If we stored above table and print the number of rows, we will notice that the number of rows have been reduced"
      ]
    },
    {
      "cell_type": "code",
      "execution_count": null,
      "metadata": {
        "id": "y40PfRlBeM67",
        "outputId": "02542b91-b6be-44ae-f8f2-f405e645a666"
      },
      "outputs": [
        {
          "data": {
            "text/plain": [
              "3680"
            ]
          },
          "execution_count": 88,
          "metadata": {},
          "output_type": "execute_result"
        }
      ],
      "source": [
        "more_populated = housing[ housing['Population'] > 2000 ]\n",
        "len(more_populated)"
      ]
    },
    {
      "cell_type": "markdown",
      "metadata": {
        "id": "bL3zG9bheM67"
      },
      "source": [
        "The original number of rows is 20640."
      ]
    },
    {
      "cell_type": "markdown",
      "metadata": {
        "id": "1kEQm9gE7Qq0"
      },
      "source": [
        "## Question:\n",
        "\n",
        ">What is the average latitude of the highest income category?\n",
        "\n",
        "*Remark*: the `.mean()` method can be applied to filtered rows, so you might not need to implement a function that outputs averages from scratch"
      ]
    },
    {
      "cell_type": "code",
      "execution_count": null,
      "metadata": {
        "id": "mZadnrv0mq9z"
      },
      "outputs": [],
      "source": [
        "# your answer"
      ]
    },
    {
      "cell_type": "markdown",
      "metadata": {
        "id": "BXrYm7PxeM68"
      },
      "source": [
        "After filtering, selected rows can be mutated with a custom set of values by using the `.loc` method. For example, for rows whose population is less than 2000, we set the average number of room equal to 4"
      ]
    },
    {
      "cell_type": "code",
      "execution_count": null,
      "metadata": {
        "id": "K-1wz8OwkJ5a",
        "outputId": "452209bd-158e-41ea-d944-f1baaef71845"
      },
      "outputs": [
        {
          "data": {
            "text/html": [
              "<div>\n",
              "<style scoped>\n",
              "    .dataframe tbody tr th:only-of-type {\n",
              "        vertical-align: middle;\n",
              "    }\n",
              "\n",
              "    .dataframe tbody tr th {\n",
              "        vertical-align: top;\n",
              "    }\n",
              "\n",
              "    .dataframe thead th {\n",
              "        text-align: right;\n",
              "    }\n",
              "</style>\n",
              "<table border=\"1\" class=\"dataframe\">\n",
              "  <thead>\n",
              "    <tr style=\"text-align: right;\">\n",
              "      <th></th>\n",
              "      <th>Population</th>\n",
              "      <th>AveRooms</th>\n",
              "    </tr>\n",
              "  </thead>\n",
              "  <tbody>\n",
              "    <tr>\n",
              "      <th>0</th>\n",
              "      <td>322.0</td>\n",
              "      <td>4.0</td>\n",
              "    </tr>\n",
              "    <tr>\n",
              "      <th>2</th>\n",
              "      <td>496.0</td>\n",
              "      <td>4.0</td>\n",
              "    </tr>\n",
              "    <tr>\n",
              "      <th>3</th>\n",
              "      <td>558.0</td>\n",
              "      <td>4.0</td>\n",
              "    </tr>\n",
              "    <tr>\n",
              "      <th>4</th>\n",
              "      <td>565.0</td>\n",
              "      <td>4.0</td>\n",
              "    </tr>\n",
              "    <tr>\n",
              "      <th>5</th>\n",
              "      <td>413.0</td>\n",
              "      <td>4.0</td>\n",
              "    </tr>\n",
              "    <tr>\n",
              "      <th>...</th>\n",
              "      <td>...</td>\n",
              "      <td>...</td>\n",
              "    </tr>\n",
              "    <tr>\n",
              "      <th>20635</th>\n",
              "      <td>845.0</td>\n",
              "      <td>4.0</td>\n",
              "    </tr>\n",
              "    <tr>\n",
              "      <th>20636</th>\n",
              "      <td>356.0</td>\n",
              "      <td>4.0</td>\n",
              "    </tr>\n",
              "    <tr>\n",
              "      <th>20637</th>\n",
              "      <td>1007.0</td>\n",
              "      <td>4.0</td>\n",
              "    </tr>\n",
              "    <tr>\n",
              "      <th>20638</th>\n",
              "      <td>741.0</td>\n",
              "      <td>4.0</td>\n",
              "    </tr>\n",
              "    <tr>\n",
              "      <th>20639</th>\n",
              "      <td>1387.0</td>\n",
              "      <td>4.0</td>\n",
              "    </tr>\n",
              "  </tbody>\n",
              "</table>\n",
              "<p>16956 rows × 2 columns</p>\n",
              "</div>"
            ],
            "text/plain": [
              "       Population  AveRooms\n",
              "0           322.0       4.0\n",
              "2           496.0       4.0\n",
              "3           558.0       4.0\n",
              "4           565.0       4.0\n",
              "5           413.0       4.0\n",
              "...           ...       ...\n",
              "20635       845.0       4.0\n",
              "20636       356.0       4.0\n",
              "20637      1007.0       4.0\n",
              "20638       741.0       4.0\n",
              "20639      1387.0       4.0\n",
              "\n",
              "[16956 rows x 2 columns]"
            ]
          },
          "execution_count": 90,
          "metadata": {},
          "output_type": "execute_result"
        }
      ],
      "source": [
        "housing.loc[ housing['Population'] < 2000 , 'AveRooms'] = 4\n",
        "housing.loc[ housing['Population'] < 2000 , ['Population', 'AveRooms'] ]"
      ]
    },
    {
      "cell_type": "markdown",
      "metadata": {
        "id": "9aeNuzmSeM68"
      },
      "source": [
        "While we have applied one conditional at a time, multiple conditionals can be used to filter table rows. Multiple conditionals generate multiple sets of boolean series, and their intersection (i.e., `&` operator) or union (i.e.,  `|` operator) among sets are used to finally filter rows. For example, if we want to know what are the income categories for the population between 2000 and 2003, we use the following line:"
      ]
    },
    {
      "cell_type": "code",
      "execution_count": null,
      "metadata": {
        "id": "LT_YcLWSeM69",
        "outputId": "55ced2cf-802e-468c-9a1d-4dbdf78dd052"
      },
      "outputs": [
        {
          "data": {
            "text/html": [
              "<div>\n",
              "<style scoped>\n",
              "    .dataframe tbody tr th:only-of-type {\n",
              "        vertical-align: middle;\n",
              "    }\n",
              "\n",
              "    .dataframe tbody tr th {\n",
              "        vertical-align: top;\n",
              "    }\n",
              "\n",
              "    .dataframe thead th {\n",
              "        text-align: right;\n",
              "    }\n",
              "</style>\n",
              "<table border=\"1\" class=\"dataframe\">\n",
              "  <thead>\n",
              "    <tr style=\"text-align: right;\">\n",
              "      <th></th>\n",
              "      <th>Population</th>\n",
              "      <th>income_cat</th>\n",
              "    </tr>\n",
              "  </thead>\n",
              "  <tbody>\n",
              "    <tr>\n",
              "      <th>2114</th>\n",
              "      <td>2002.0</td>\n",
              "      <td>1</td>\n",
              "    </tr>\n",
              "    <tr>\n",
              "      <th>9690</th>\n",
              "      <td>2002.0</td>\n",
              "      <td>3</td>\n",
              "    </tr>\n",
              "    <tr>\n",
              "      <th>14681</th>\n",
              "      <td>2001.0</td>\n",
              "      <td>4</td>\n",
              "    </tr>\n",
              "    <tr>\n",
              "      <th>14876</th>\n",
              "      <td>2002.0</td>\n",
              "      <td>2</td>\n",
              "    </tr>\n",
              "    <tr>\n",
              "      <th>17139</th>\n",
              "      <td>2002.0</td>\n",
              "      <td>3</td>\n",
              "    </tr>\n",
              "    <tr>\n",
              "      <th>17660</th>\n",
              "      <td>2002.0</td>\n",
              "      <td>3</td>\n",
              "    </tr>\n",
              "    <tr>\n",
              "      <th>18670</th>\n",
              "      <td>2001.0</td>\n",
              "      <td>4</td>\n",
              "    </tr>\n",
              "    <tr>\n",
              "      <th>20343</th>\n",
              "      <td>2002.0</td>\n",
              "      <td>4</td>\n",
              "    </tr>\n",
              "  </tbody>\n",
              "</table>\n",
              "</div>"
            ],
            "text/plain": [
              "       Population income_cat\n",
              "2114       2002.0          1\n",
              "9690       2002.0          3\n",
              "14681      2001.0          4\n",
              "14876      2002.0          2\n",
              "17139      2002.0          3\n",
              "17660      2002.0          3\n",
              "18670      2001.0          4\n",
              "20343      2002.0          4"
            ]
          },
          "execution_count": 91,
          "metadata": {},
          "output_type": "execute_result"
        }
      ],
      "source": [
        "housing.loc[ (housing['Population'] > 2000) & (housing['Population'] < 2003), ['Population','income_cat']]"
      ]
    },
    {
      "cell_type": "markdown",
      "metadata": {
        "id": "nclw3Fq5eM69"
      },
      "source": [
        "Note that each conditional is surrounded between parenthesis and their interesection is obtained by using the `&` operator.\n",
        "\n",
        "## Question\n",
        "\n",
        ">What are the average house values between 40-42 latitudes, and between 30-32 latitudes?"
      ]
    },
    {
      "cell_type": "code",
      "execution_count": null,
      "metadata": {
        "id": "zT352JFFeM69"
      },
      "outputs": [],
      "source": [
        "# your answer\n"
      ]
    },
    {
      "cell_type": "markdown",
      "metadata": {
        "id": "DgHVImMa0rsL"
      },
      "source": [
        "# Sorting\n",
        "\n",
        "We can order rows of a table in function a given column values by using the `.sort_values()` method. In the following example, we will order rows in function of income (i.e., `'MedInc'`), and we will print the first five rows:"
      ]
    },
    {
      "cell_type": "code",
      "execution_count": null,
      "metadata": {
        "colab": {
          "base_uri": "https://localhost:8080/",
          "height": 204
        },
        "id": "SArNmgblRY0e",
        "outputId": "f0ce0ab0-1bcd-4600-fbbc-9be77b71ac10"
      },
      "outputs": [
        {
          "data": {
            "text/html": [
              "<div>\n",
              "<style scoped>\n",
              "    .dataframe tbody tr th:only-of-type {\n",
              "        vertical-align: middle;\n",
              "    }\n",
              "\n",
              "    .dataframe tbody tr th {\n",
              "        vertical-align: top;\n",
              "    }\n",
              "\n",
              "    .dataframe thead th {\n",
              "        text-align: right;\n",
              "    }\n",
              "</style>\n",
              "<table border=\"1\" class=\"dataframe\">\n",
              "  <thead>\n",
              "    <tr style=\"text-align: right;\">\n",
              "      <th></th>\n",
              "      <th>MedInc</th>\n",
              "      <th>HouseAge</th>\n",
              "      <th>AveRooms</th>\n",
              "      <th>AveBedrms</th>\n",
              "      <th>Population</th>\n",
              "      <th>AveOccup</th>\n",
              "      <th>Latitude</th>\n",
              "      <th>Longitude</th>\n",
              "      <th>MedHouseVal</th>\n",
              "      <th>income_cat</th>\n",
              "    </tr>\n",
              "  </thead>\n",
              "  <tbody>\n",
              "    <tr>\n",
              "      <th>4861</th>\n",
              "      <td>0.4999</td>\n",
              "      <td>29.0</td>\n",
              "      <td>2.373272</td>\n",
              "      <td>1.055300</td>\n",
              "      <td>2690.0</td>\n",
              "      <td>12.396313</td>\n",
              "      <td>34.02</td>\n",
              "      <td>-118.28</td>\n",
              "      <td>5.00001</td>\n",
              "      <td>1</td>\n",
              "    </tr>\n",
              "    <tr>\n",
              "      <th>7125</th>\n",
              "      <td>0.4999</td>\n",
              "      <td>36.0</td>\n",
              "      <td>4.000000</td>\n",
              "      <td>0.833333</td>\n",
              "      <td>15.0</td>\n",
              "      <td>2.500000</td>\n",
              "      <td>33.90</td>\n",
              "      <td>-118.04</td>\n",
              "      <td>1.62500</td>\n",
              "      <td>1</td>\n",
              "    </tr>\n",
              "    <tr>\n",
              "      <th>6688</th>\n",
              "      <td>0.4999</td>\n",
              "      <td>28.0</td>\n",
              "      <td>4.000000</td>\n",
              "      <td>1.870968</td>\n",
              "      <td>142.0</td>\n",
              "      <td>4.580645</td>\n",
              "      <td>34.15</td>\n",
              "      <td>-118.08</td>\n",
              "      <td>5.00001</td>\n",
              "      <td>1</td>\n",
              "    </tr>\n",
              "    <tr>\n",
              "      <th>19800</th>\n",
              "      <td>0.4999</td>\n",
              "      <td>15.0</td>\n",
              "      <td>4.000000</td>\n",
              "      <td>2.561404</td>\n",
              "      <td>131.0</td>\n",
              "      <td>2.298246</td>\n",
              "      <td>40.43</td>\n",
              "      <td>-123.32</td>\n",
              "      <td>0.56700</td>\n",
              "      <td>1</td>\n",
              "    </tr>\n",
              "    <tr>\n",
              "      <th>6343</th>\n",
              "      <td>0.4999</td>\n",
              "      <td>52.0</td>\n",
              "      <td>4.000000</td>\n",
              "      <td>0.562500</td>\n",
              "      <td>44.0</td>\n",
              "      <td>2.750000</td>\n",
              "      <td>34.06</td>\n",
              "      <td>-117.75</td>\n",
              "      <td>1.12500</td>\n",
              "      <td>1</td>\n",
              "    </tr>\n",
              "  </tbody>\n",
              "</table>\n",
              "</div>"
            ],
            "text/plain": [
              "       MedInc  HouseAge  AveRooms  AveBedrms  Population   AveOccup  Latitude  \\\n",
              "4861   0.4999      29.0  2.373272   1.055300      2690.0  12.396313     34.02   \n",
              "7125   0.4999      36.0  4.000000   0.833333        15.0   2.500000     33.90   \n",
              "6688   0.4999      28.0  4.000000   1.870968       142.0   4.580645     34.15   \n",
              "19800  0.4999      15.0  4.000000   2.561404       131.0   2.298246     40.43   \n",
              "6343   0.4999      52.0  4.000000   0.562500        44.0   2.750000     34.06   \n",
              "\n",
              "       Longitude  MedHouseVal income_cat  \n",
              "4861     -118.28      5.00001          1  \n",
              "7125     -118.04      1.62500          1  \n",
              "6688     -118.08      5.00001          1  \n",
              "19800    -123.32      0.56700          1  \n",
              "6343     -117.75      1.12500          1  "
            ]
          },
          "execution_count": 93,
          "metadata": {},
          "output_type": "execute_result"
        }
      ],
      "source": [
        "housing.sort_values('MedInc').head()"
      ]
    },
    {
      "cell_type": "markdown",
      "metadata": {
        "id": "MmK4_-T4eM6-"
      },
      "source": [
        "We can inverse the order by using the argument `ascending = False`"
      ]
    },
    {
      "cell_type": "code",
      "execution_count": null,
      "metadata": {
        "colab": {
          "base_uri": "https://localhost:8080/",
          "height": 204
        },
        "id": "KvfgRUc14E51",
        "outputId": "3303a801-5a5a-4e3f-e62d-a61812c90feb"
      },
      "outputs": [
        {
          "data": {
            "text/html": [
              "<div>\n",
              "<style scoped>\n",
              "    .dataframe tbody tr th:only-of-type {\n",
              "        vertical-align: middle;\n",
              "    }\n",
              "\n",
              "    .dataframe tbody tr th {\n",
              "        vertical-align: top;\n",
              "    }\n",
              "\n",
              "    .dataframe thead th {\n",
              "        text-align: right;\n",
              "    }\n",
              "</style>\n",
              "<table border=\"1\" class=\"dataframe\">\n",
              "  <thead>\n",
              "    <tr style=\"text-align: right;\">\n",
              "      <th></th>\n",
              "      <th>MedInc</th>\n",
              "      <th>HouseAge</th>\n",
              "      <th>AveRooms</th>\n",
              "      <th>AveBedrms</th>\n",
              "      <th>Population</th>\n",
              "      <th>AveOccup</th>\n",
              "      <th>Latitude</th>\n",
              "      <th>Longitude</th>\n",
              "      <th>MedHouseVal</th>\n",
              "      <th>income_cat</th>\n",
              "    </tr>\n",
              "  </thead>\n",
              "  <tbody>\n",
              "    <tr>\n",
              "      <th>4352</th>\n",
              "      <td>15.0001</td>\n",
              "      <td>37.0</td>\n",
              "      <td>4.0</td>\n",
              "      <td>1.425532</td>\n",
              "      <td>100.0</td>\n",
              "      <td>2.127660</td>\n",
              "      <td>34.10</td>\n",
              "      <td>-118.37</td>\n",
              "      <td>5.00001</td>\n",
              "      <td>5</td>\n",
              "    </tr>\n",
              "    <tr>\n",
              "      <th>10673</th>\n",
              "      <td>15.0001</td>\n",
              "      <td>13.0</td>\n",
              "      <td>4.0</td>\n",
              "      <td>0.993958</td>\n",
              "      <td>1865.0</td>\n",
              "      <td>2.817221</td>\n",
              "      <td>33.62</td>\n",
              "      <td>-117.85</td>\n",
              "      <td>5.00001</td>\n",
              "      <td>5</td>\n",
              "    </tr>\n",
              "    <tr>\n",
              "      <th>8849</th>\n",
              "      <td>15.0001</td>\n",
              "      <td>52.0</td>\n",
              "      <td>4.0</td>\n",
              "      <td>1.062954</td>\n",
              "      <td>1266.0</td>\n",
              "      <td>3.065375</td>\n",
              "      <td>34.08</td>\n",
              "      <td>-118.40</td>\n",
              "      <td>5.00001</td>\n",
              "      <td>5</td>\n",
              "    </tr>\n",
              "    <tr>\n",
              "      <th>4606</th>\n",
              "      <td>15.0001</td>\n",
              "      <td>52.0</td>\n",
              "      <td>4.0</td>\n",
              "      <td>1.062112</td>\n",
              "      <td>531.0</td>\n",
              "      <td>3.298137</td>\n",
              "      <td>34.07</td>\n",
              "      <td>-118.33</td>\n",
              "      <td>5.00001</td>\n",
              "      <td>5</td>\n",
              "    </tr>\n",
              "    <tr>\n",
              "      <th>5257</th>\n",
              "      <td>15.0001</td>\n",
              "      <td>42.0</td>\n",
              "      <td>4.0</td>\n",
              "      <td>1.161290</td>\n",
              "      <td>829.0</td>\n",
              "      <td>2.674194</td>\n",
              "      <td>34.06</td>\n",
              "      <td>-118.49</td>\n",
              "      <td>5.00001</td>\n",
              "      <td>5</td>\n",
              "    </tr>\n",
              "  </tbody>\n",
              "</table>\n",
              "</div>"
            ],
            "text/plain": [
              "        MedInc  HouseAge  AveRooms  AveBedrms  Population  AveOccup  Latitude  \\\n",
              "4352   15.0001      37.0       4.0   1.425532       100.0  2.127660     34.10   \n",
              "10673  15.0001      13.0       4.0   0.993958      1865.0  2.817221     33.62   \n",
              "8849   15.0001      52.0       4.0   1.062954      1266.0  3.065375     34.08   \n",
              "4606   15.0001      52.0       4.0   1.062112       531.0  3.298137     34.07   \n",
              "5257   15.0001      42.0       4.0   1.161290       829.0  2.674194     34.06   \n",
              "\n",
              "       Longitude  MedHouseVal income_cat  \n",
              "4352     -118.37      5.00001          5  \n",
              "10673    -117.85      5.00001          5  \n",
              "8849     -118.40      5.00001          5  \n",
              "4606     -118.33      5.00001          5  \n",
              "5257     -118.49      5.00001          5  "
            ]
          },
          "execution_count": 94,
          "metadata": {},
          "output_type": "execute_result"
        }
      ],
      "source": [
        "# invert \n",
        "housing.sort_values('MedInc', ascending=False).head()"
      ]
    },
    {
      "cell_type": "markdown",
      "metadata": {
        "id": "4iilIAGM_OfK"
      },
      "source": [
        "## Question:\n",
        "\n",
        ">What are the coordinates of the three oldest houses with income caterogy 5?"
      ]
    },
    {
      "cell_type": "code",
      "execution_count": null,
      "metadata": {
        "id": "5jP-QnbXuGuo"
      },
      "outputs": [],
      "source": [
        "# your answer\n"
      ]
    },
    {
      "cell_type": "markdown",
      "metadata": {
        "id": "RfgQUxoGeM6_"
      },
      "source": [
        "# Merge\n",
        "\n",
        "Merge allow us to intersect multiple tables in function of key column (i.e., a common column between tables). While combining tables is the essence of this functionality, there different ways this can be done:\n",
        "\n",
        "\n",
        "<!-- <p align=\"center\"> -->\n",
        "<img src=\"https://raw.githubusercontent.com/ulises-rosas/code/main/images/merge_types.png\" width=\"250\" height=\"280\">\n",
        "<!-- </p> -->\n",
        "\n",
        "Before making an example of this functionality, let's download another datasets. We are going to use [The NYC squirrel census](https://github.com/rfordatascience/tidytuesday/tree/master/data/2019/2019-10-29) dataset."
      ]
    },
    {
      "cell_type": "code",
      "execution_count": null,
      "metadata": {
        "id": "q1GuZwIreM6_",
        "outputId": "ea44d7ad-c2ba-423c-91e7-d5d38c430f7e"
      },
      "outputs": [
        {
          "data": {
            "text/html": [
              "<div>\n",
              "<style scoped>\n",
              "    .dataframe tbody tr th:only-of-type {\n",
              "        vertical-align: middle;\n",
              "    }\n",
              "\n",
              "    .dataframe tbody tr th {\n",
              "        vertical-align: top;\n",
              "    }\n",
              "\n",
              "    .dataframe thead th {\n",
              "        text-align: right;\n",
              "    }\n",
              "</style>\n",
              "<table border=\"1\" class=\"dataframe\">\n",
              "  <thead>\n",
              "    <tr style=\"text-align: right;\">\n",
              "      <th></th>\n",
              "      <th>unique_squirrel_id</th>\n",
              "      <th>lat</th>\n",
              "      <th>long</th>\n",
              "      <th>indifferent</th>\n",
              "      <th>primary_fur_color</th>\n",
              "      <th>highlight_fur_color</th>\n",
              "    </tr>\n",
              "  </thead>\n",
              "  <tbody>\n",
              "    <tr>\n",
              "      <th>0</th>\n",
              "      <td>37F-PM-1014-03</td>\n",
              "      <td>40.794082</td>\n",
              "      <td>-73.956134</td>\n",
              "      <td>False</td>\n",
              "      <td>NaN</td>\n",
              "      <td>NaN</td>\n",
              "    </tr>\n",
              "    <tr>\n",
              "      <th>1</th>\n",
              "      <td>2E-AM-1010-03</td>\n",
              "      <td>40.766718</td>\n",
              "      <td>-73.976831</td>\n",
              "      <td>True</td>\n",
              "      <td>Cinnamon</td>\n",
              "      <td>NaN</td>\n",
              "    </tr>\n",
              "  </tbody>\n",
              "</table>\n",
              "</div>"
            ],
            "text/plain": [
              "  unique_squirrel_id        lat       long  indifferent primary_fur_color  \\\n",
              "0     37F-PM-1014-03  40.794082 -73.956134        False               NaN   \n",
              "1      2E-AM-1010-03  40.766718 -73.976831         True          Cinnamon   \n",
              "\n",
              "  highlight_fur_color  \n",
              "0                 NaN  \n",
              "1                 NaN  "
            ]
          },
          "execution_count": 119,
          "metadata": {},
          "output_type": "execute_result"
        }
      ],
      "source": [
        "squi_url = \"https://raw.githubusercontent.com/ulises-rosas/code/main/squirrel_base.csv\"\n",
        "squirrels = pd.read_csv(squi_url)\n",
        "squirrels.head(2)"
      ]
    },
    {
      "cell_type": "code",
      "execution_count": null,
      "metadata": {
        "id": "ZSLnPBaneM6_",
        "outputId": "480b80cb-6c73-468d-a0c7-56a472531fb3"
      },
      "outputs": [
        {
          "data": {
            "text/html": [
              "<div>\n",
              "<style scoped>\n",
              "    .dataframe tbody tr th:only-of-type {\n",
              "        vertical-align: middle;\n",
              "    }\n",
              "\n",
              "    .dataframe tbody tr th {\n",
              "        vertical-align: top;\n",
              "    }\n",
              "\n",
              "    .dataframe thead th {\n",
              "        text-align: right;\n",
              "    }\n",
              "</style>\n",
              "<table border=\"1\" class=\"dataframe\">\n",
              "  <thead>\n",
              "    <tr style=\"text-align: right;\">\n",
              "      <th></th>\n",
              "      <th>unique_squirrel_id</th>\n",
              "      <th>running</th>\n",
              "      <th>chasing</th>\n",
              "      <th>climbing</th>\n",
              "      <th>eating</th>\n",
              "      <th>foraging</th>\n",
              "    </tr>\n",
              "  </thead>\n",
              "  <tbody>\n",
              "    <tr>\n",
              "      <th>0</th>\n",
              "      <td>37F-PM-1014-03</td>\n",
              "      <td>False</td>\n",
              "      <td>False</td>\n",
              "      <td>False</td>\n",
              "      <td>False</td>\n",
              "      <td>False</td>\n",
              "    </tr>\n",
              "    <tr>\n",
              "      <th>1</th>\n",
              "      <td>2E-AM-1010-03</td>\n",
              "      <td>False</td>\n",
              "      <td>False</td>\n",
              "      <td>True</td>\n",
              "      <td>False</td>\n",
              "      <td>False</td>\n",
              "    </tr>\n",
              "  </tbody>\n",
              "</table>\n",
              "</div>"
            ],
            "text/plain": [
              "  unique_squirrel_id  running  chasing  climbing  eating  foraging\n",
              "0     37F-PM-1014-03    False    False     False   False     False\n",
              "1      2E-AM-1010-03    False    False      True   False     False"
            ]
          },
          "execution_count": 122,
          "metadata": {},
          "output_type": "execute_result"
        }
      ],
      "source": [
        "behavior_url = \"https://raw.githubusercontent.com/ulises-rosas/code/main/squirrel_behavior.csv\"\n",
        "behavior = pd.read_csv(behavior_url)\n",
        "behavior.head(2)"
      ]
    },
    {
      "cell_type": "code",
      "execution_count": null,
      "metadata": {
        "id": "6EFdozKceM7A",
        "outputId": "2a9cd3bc-4e09-49ff-e2d1-85c1e46491a6"
      },
      "outputs": [
        {
          "data": {
            "text/html": [
              "<div>\n",
              "<style scoped>\n",
              "    .dataframe tbody tr th:only-of-type {\n",
              "        vertical-align: middle;\n",
              "    }\n",
              "\n",
              "    .dataframe tbody tr th {\n",
              "        vertical-align: top;\n",
              "    }\n",
              "\n",
              "    .dataframe thead th {\n",
              "        text-align: right;\n",
              "    }\n",
              "</style>\n",
              "<table border=\"1\" class=\"dataframe\">\n",
              "  <thead>\n",
              "    <tr style=\"text-align: right;\">\n",
              "      <th></th>\n",
              "      <th>unique_squirrel_id</th>\n",
              "      <th>lat</th>\n",
              "      <th>long</th>\n",
              "      <th>indifferent</th>\n",
              "      <th>primary_fur_color</th>\n",
              "      <th>highlight_fur_color</th>\n",
              "      <th>running</th>\n",
              "      <th>chasing</th>\n",
              "      <th>climbing</th>\n",
              "      <th>eating</th>\n",
              "      <th>foraging</th>\n",
              "    </tr>\n",
              "  </thead>\n",
              "  <tbody>\n",
              "    <tr>\n",
              "      <th>0</th>\n",
              "      <td>37F-PM-1014-03</td>\n",
              "      <td>40.794082</td>\n",
              "      <td>-73.956134</td>\n",
              "      <td>False</td>\n",
              "      <td>NaN</td>\n",
              "      <td>NaN</td>\n",
              "      <td>False</td>\n",
              "      <td>False</td>\n",
              "      <td>False</td>\n",
              "      <td>False</td>\n",
              "      <td>False</td>\n",
              "    </tr>\n",
              "    <tr>\n",
              "      <th>1</th>\n",
              "      <td>2E-AM-1010-03</td>\n",
              "      <td>40.766718</td>\n",
              "      <td>-73.976831</td>\n",
              "      <td>True</td>\n",
              "      <td>Cinnamon</td>\n",
              "      <td>NaN</td>\n",
              "      <td>False</td>\n",
              "      <td>False</td>\n",
              "      <td>True</td>\n",
              "      <td>False</td>\n",
              "      <td>False</td>\n",
              "    </tr>\n",
              "  </tbody>\n",
              "</table>\n",
              "</div>"
            ],
            "text/plain": [
              "  unique_squirrel_id        lat       long  indifferent primary_fur_color  \\\n",
              "0     37F-PM-1014-03  40.794082 -73.956134        False               NaN   \n",
              "1      2E-AM-1010-03  40.766718 -73.976831         True          Cinnamon   \n",
              "\n",
              "  highlight_fur_color  running  chasing  climbing  eating  foraging  \n",
              "0                 NaN    False    False     False   False     False  \n",
              "1                 NaN    False    False      True   False     False  "
            ]
          },
          "execution_count": 125,
          "metadata": {},
          "output_type": "execute_result"
        }
      ],
      "source": [
        "squirrels = pd.merge( squirrels, behavior, how = 'left', on = 'unique_squirrel_id')\n",
        "squirrels.head(2)"
      ]
    },
    {
      "cell_type": "markdown",
      "metadata": {
        "id": "IXGSKBk1eM7A"
      },
      "source": [
        "## Challenge:\n",
        "\n",
        "Complete the `squirrels` table by merging squirrel sounds from this url path: \"https://raw.githubusercontent.com/ulises-rosas/code/main/squirrel_sounds.csv\"\n",
        "\n"
      ]
    },
    {
      "cell_type": "markdown",
      "metadata": {
        "id": "Eg0IJgbyBW8Q"
      },
      "source": [
        "# Grouping\n",
        "\n",
        "Grouping allows us to apply a given function specifically to rows that are part of the same category. The above dataset contains various measures of squirrels from NYC. If we want to know the frequency of fur color in our dataset, we can use the `.groupby` method over the column `'primary_fur_color'`, and then count rows:"
      ]
    },
    {
      "cell_type": "code",
      "execution_count": null,
      "metadata": {
        "colab": {
          "base_uri": "https://localhost:8080/"
        },
        "id": "GMcWbXnfBaBD",
        "outputId": "5f8db8fb-2cf8-42f2-9e57-680eb7e2fa10"
      },
      "outputs": [
        {
          "data": {
            "text/plain": [
              "primary_fur_color\n",
              "Black        103\n",
              "Cinnamon     392\n",
              "Gray        2473\n",
              "dtype: int64"
            ]
          },
          "execution_count": 111,
          "metadata": {},
          "output_type": "execute_result"
        }
      ],
      "source": [
        "squirrels.groupby('primary_fur_color').apply(len) "
      ]
    },
    {
      "cell_type": "markdown",
      "metadata": {
        "id": "XNLmgvGueM7A"
      },
      "source": [
        "`len` function is used to count grouped rows."
      ]
    },
    {
      "cell_type": "markdown",
      "metadata": {
        "id": "uT14vJYWG6AV"
      },
      "source": [
        "## Challenge:\n",
        "\n",
        "Use a `for-loop` to get same results from above chunk.\n",
        "\n",
        "*Note*: As a reminder, a typical `for-loop` has the following strucuture\n",
        "\n",
        ">```python\n",
        ">for i in values:\n",
        ">    # a given operation \n",
        ">    # over i, e.g., print\n",
        ">    print(i)\n",
        ">```\n",
        "\n",
        "You can use above structure to filter the table and count the number of rows\n"
      ]
    },
    {
      "cell_type": "code",
      "execution_count": null,
      "metadata": {
        "id": "fZ9jT_gEC7u7"
      },
      "outputs": [],
      "source": [
        "# your solution\n"
      ]
    },
    {
      "cell_type": "markdown",
      "metadata": {
        "id": "_1KF_UDweM7B"
      },
      "source": [
        "`pandas` can handle more complex groupings that might be tedious to implement in a regular `for-loop` due to the number of conditionals. We just need to give a list of grouping columns into the `groupby` function. \n",
        "\n",
        "For instance, if we want to know how many squirrels were seen climbing for each group of fur color, we can use the following line:"
      ]
    },
    {
      "cell_type": "code",
      "execution_count": null,
      "metadata": {
        "id": "6Qgq_GcOeM7B",
        "outputId": "4192cafa-2f1b-4fef-f803-c85d8e8697b7"
      },
      "outputs": [
        {
          "data": {
            "text/plain": [
              "primary_fur_color  climbing\n",
              "Black              False         78\n",
              "                   True          25\n",
              "Cinnamon           False        310\n",
              "                   True          82\n",
              "Gray               False       1930\n",
              "                   True         533\n",
              "dtype: int64"
            ]
          },
          "execution_count": 127,
          "metadata": {},
          "output_type": "execute_result"
        }
      ],
      "source": [
        "squirrels.groupby(['primary_fur_color','climbing']).apply(len)"
      ]
    },
    {
      "cell_type": "markdown",
      "metadata": {
        "id": "NyuN0qlZeM7C"
      },
      "source": [
        "## Question\n",
        "\n",
        "> How many squirrels of Gray fur were indifferent to human precense while eating?\n",
        "\n",
        "*Note*: `indifferent` and `eating` columns depicts if the squirrel was seen indiffirent to humans and eating, respectively"
      ]
    },
    {
      "cell_type": "code",
      "execution_count": null,
      "metadata": {
        "id": "9ct0CANheM7C"
      },
      "outputs": [],
      "source": [
        "# you answer\n"
      ]
    },
    {
      "cell_type": "markdown",
      "metadata": {
        "id": "GLdbFY0qeM7C"
      },
      "source": [
        "From the above examples, we have relied on the built-in Python `len`. However, we can introduce custom functions into the `apply` function. For instance, if we create a custom function such as the variance, we can apply the above function to grouped rows such that we can approach the sparsity in the longitude axis given the squirrel fur color"
      ]
    },
    {
      "cell_type": "code",
      "execution_count": null,
      "metadata": {
        "colab": {
          "base_uri": "https://localhost:8080/"
        },
        "id": "7XB6C0tqIsCB",
        "outputId": "3a4a1b66-1002-482d-e219-ee7b55a1b3d2"
      },
      "outputs": [
        {
          "data": {
            "text/plain": [
              "primary_fur_color\n",
              "Black       0.004400\n",
              "Cinnamon    0.025248\n",
              "Gray        0.144516\n",
              "Name: long, dtype: float64"
            ]
          },
          "execution_count": 112,
          "metadata": {},
          "output_type": "execute_result"
        }
      ],
      "source": [
        "# my custom function\n",
        "def variance(values):\n",
        "    sig = 0\n",
        "    x_bar = sum(values)/len(values)\n",
        "    for x in values:\n",
        "        sig += ( x - x_bar )**2\n",
        "    return sig\n",
        "\n",
        "# apply to above function to\n",
        "# the grouped 'long' column\n",
        "squirrels.groupby('primary_fur_color')['long'].apply(variance)"
      ]
    }
  ],
  "metadata": {
    "colab": {
      "collapsed_sections": [],
      "name": "Copy of DM v4.ipynb",
      "provenance": [],
      "include_colab_link": true
    },
    "kernelspec": {
      "display_name": "Python 3",
      "language": "python",
      "name": "python3"
    },
    "language_info": {
      "codemirror_mode": {
        "name": "ipython",
        "version": 3
      },
      "file_extension": ".py",
      "mimetype": "text/x-python",
      "name": "python",
      "nbconvert_exporter": "python",
      "pygments_lexer": "ipython3",
      "version": "3.7.9"
    },
    "title": "Data management: Day 1",
    "vscode": {
      "interpreter": {
        "hash": "499b230a8abd1c927d6caa6913e3c57dd558117cad7b31f141bdcd883b3d054c"
      }
    }
  },
  "nbformat": 4,
  "nbformat_minor": 0
}